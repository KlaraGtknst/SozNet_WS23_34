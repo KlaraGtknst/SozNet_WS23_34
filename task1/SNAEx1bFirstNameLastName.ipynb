{
 "cells": [
  {
   "cell_type": "markdown",
   "metadata": {},
   "source": [
    "# Social Network Analysis - Exercise Sheet 1b)\n",
    "\n",
    "\n",
    "### Computation of all maximal Cliques for undirected Graphs.\n",
    "\n",
    "In graph theory cliques, i.e., subsets of the graph such that every two distinct vertices are adjacent, are one of the basic concepts of interest.\n",
    "The concept has found a lot of applications throughout different disciplines.\n",
    "For example in social network analysis cliques are used to analyze and model communities and in electrical engineering to analyze the topology of communication networks.\n",
    "Further there are a lot of applications in bioinformatics and computational chemistry.\n",
    "A directly connected task is the finding of cliques.\n",
    "This so called clique problem is computationally hard.\n",
    "Nonetheless a multitude of algorithms have been developed.\n",
    "In 1977 Tsukiyama et. al. showed that it is possible to compute all maximal cliques where the amount of time per generated clique is polynomial.\n",
    "\n",
    "Your Task is to implement their algorithm."
   ]
  },
  {
   "cell_type": "code",
   "execution_count": null,
   "metadata": {},
   "outputs": [],
   "source": [
    "# Execute this cell to show the PDF containing the algorithm or open the PDF seperately\n",
    "from IPython.display import IFrame\n",
    "IFrame(\"./resources/Tsukiyama.pdf\", width='100%', height=800)"
   ]
  },
  {
   "cell_type": "markdown",
   "metadata": {},
   "source": [
    "##### Exercise 1\n",
    "* Implement the above algorithm and test your implementation with the graphs given below.\n",
    "* The pseudocode only lists (i.e. prints) the maximal cliques, change the algorithm to return a set containing the maximal cliques.\n",
    "* Comment your code properly.\n",
    "* Use Testcase 1 to perform a visual inspection of your results\n",
    "* Use Testcase 4 to measure the time your implementation needs on different subsets of the [Euroroad](http://konect.uni-koblenz.de/networks/subelj_euroroad) network (graph is provided in the zip file). As a reference: Your implementation should compute the maximal cliques of the biggest subgraph (300 nodes) in under 400 seconds when timing the computation using the cProfile library.\n",
    "\n",
    "##### Hints\n",
    "* Submit your code zipped via [moodle](https://moodle.uni-kassel.de/course/view.php?id=11038) until 17.11.2023 23:55 MEZ\n",
    "* Use the [NetworkX](https://networkx.github.io/documentation/stable/) library.\n",
    "* Below the Implementation section is a Test section that is used to test your code."
   ]
  },
  {
   "cell_type": "markdown",
   "metadata": {},
   "source": [
    "### Implementation\n",
    "Implement your solution in this section.\n",
    "Use the predefined methods.\n",
    "You can add more methods if you want."
   ]
  },
  {
   "cell_type": "code",
   "execution_count": null,
   "metadata": {},
   "outputs": [],
   "source": [
    "import random\n",
    "import networkx as nx\n",
    "import matplotlib.pyplot as plt\n",
    "\n",
    "\n",
    "def all_maximal_cliques(undirected_graph):\n",
    "    '''\n",
    "    Input: undirected Graph\n",
    "    Output: set containing all maximal \n",
    "    '''   \n",
    "\n",
    "    # TODO\n",
    "    \n",
    "    return \n",
    "\n"
   ]
  },
  {
   "cell_type": "markdown",
   "metadata": {},
   "source": [
    "### Tests \n",
    "This section contains four testcases that can be used to test if the implemented methods correctly compute the maximal cliques.\n",
    "Further it contains code to draw the graphs and inspect them visually given the NetworkX library was used."
   ]
  },
  {
   "cell_type": "code",
   "execution_count": null,
   "metadata": {},
   "outputs": [],
   "source": [
    "def inspect_cliques_visually(G, plotall=False):\n",
    "    nx.draw(G, node_color='lightblue', with_labels = True)\n",
    "    plt.show()\n",
    "    max_cliques = all_maximal_cliques(G)\n",
    "    print('maximal cliques:',*[set(c) for c in max_cliques])\n",
    "    if plotall:\n",
    "        for clique in max_cliques:\n",
    "            val_map = {c:'yellow' for c in clique}\n",
    "            values = [val_map.get(node, 'lightblue') for node in G.nodes()]\n",
    "            nx.draw(G, node_color=values, with_labels = True)\n",
    "            plt.show()"
   ]
  },
  {
   "cell_type": "code",
   "execution_count": null,
   "metadata": {},
   "outputs": [],
   "source": [
    "# Testcase 1\n",
    "G1 = nx.Graph()\n",
    "G1.add_nodes_from([1,2,3,4,5,6,7])\n",
    "G1.add_edges_from([(1,2),(1,3),(1,4),(2,3),(2,4),(3,4),(4,5),(5,6),(5,7),(6,7)])\n",
    "\n",
    "inspect_cliques_visually(G1,plotall=True)"
   ]
  },
  {
   "cell_type": "code",
   "execution_count": null,
   "metadata": {},
   "outputs": [],
   "source": [
    "# Testcase 2\n",
    "G2 = nx.Graph()\n",
    "G2.add_nodes_from([1,2,3,4,5,6,7])\n",
    "G2.add_edges_from([(1,2),(1,3),(1,4),(2,3),(4,5),(4,6),(4,7),(5,6),(5,7),(6,7)])\n",
    "inspect_cliques_visually(G2)"
   ]
  },
  {
   "cell_type": "code",
   "execution_count": null,
   "metadata": {},
   "outputs": [],
   "source": [
    "# Testcase 3 \n",
    "G3 = nx.read_gml('./resources/adjnoun.gml', label='id')\n",
    "all_maximal_cliques(G3)"
   ]
  },
  {
   "cell_type": "code",
   "execution_count": null,
   "metadata": {},
   "outputs": [],
   "source": [
    "# Testcase 4\n",
    "G4 = nx.read_adjlist(\"./resources/out.subelj_euroroad_euroroad\", comments='%',nodetype=int)\n",
    "G4_sub1 = G4.subgraph(range(1,100))\n",
    "G4_sub2 = G4.subgraph(range(1,200))\n",
    "G4_sub3 = G4.subgraph(range(1,300))\n",
    "import cProfile\n",
    "cProfile.run('all_maximal_cliques(G4_sub1)')\n",
    "cProfile.run('all_maximal_cliques(G4_sub2)')\n",
    "cProfile.run('all_maximal_cliques(G4_sub3)')"
   ]
  }
 ],
 "metadata": {
  "kernelspec": {
   "display_name": "Python 3 (ipykernel)",
   "language": "python",
   "name": "python3"
  },
  "language_info": {
   "codemirror_mode": {
    "name": "ipython",
    "version": 3
   },
   "file_extension": ".py",
   "mimetype": "text/x-python",
   "name": "python",
   "nbconvert_exporter": "python",
   "pygments_lexer": "ipython3",
   "version": "3.11.2"
  },
  "vscode": {
   "interpreter": {
    "hash": "54dde15eeccb64c05b0ed31aaff800dfd5adc55402d65d85a0fd7af2950801f8"
   }
  }
 },
 "nbformat": 4,
 "nbformat_minor": 4
}
