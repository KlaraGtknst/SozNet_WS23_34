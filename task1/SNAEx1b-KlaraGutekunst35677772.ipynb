{
 "cells": [
  {
   "cell_type": "markdown",
   "metadata": {},
   "source": [
    "# Social Network Analysis - Exercise Sheet 1b)\n",
    "\n",
    "\n",
    "### Computation of all maximal Cliques for undirected Graphs.\n",
    "\n",
    "In graph theory cliques, i.e., subsets of the graph such that every two distinct vertices are adjacent, are one of the basic concepts of interest.\n",
    "The concept has found a lot of applications throughout different disciplines.\n",
    "For example in social network analysis cliques are used to analyze and model communities and in electrical engineering to analyze the topology of communication networks.\n",
    "Further there are a lot of applications in bioinformatics and computational chemistry.\n",
    "A directly connected task is the finding of cliques.\n",
    "This so called clique problem is computationally hard.\n",
    "Nonetheless a multitude of algorithms have been developed.\n",
    "In 1977 Tsukiyama et. al. showed that it is possible to compute all maximal cliques where the amount of time per generated clique is polynomial.\n",
    "\n",
    "Your Task is to implement their algorithm."
   ]
  },
  {
   "cell_type": "code",
   "execution_count": 1,
   "metadata": {},
   "outputs": [
    {
     "data": {
      "text/html": [
       "\n",
       "        <iframe\n",
       "            width=\"100%\"\n",
       "            height=\"800\"\n",
       "            src=\"./resources/Tsukiyama.pdf\"\n",
       "            frameborder=\"0\"\n",
       "            allowfullscreen\n",
       "            \n",
       "        ></iframe>\n",
       "        "
      ],
      "text/plain": [
       "<IPython.lib.display.IFrame at 0x10474fb90>"
      ]
     },
     "execution_count": 1,
     "metadata": {},
     "output_type": "execute_result"
    }
   ],
   "source": [
    "# Execute this cell to show the PDF containing the algorithm or open the PDF seperately\n",
    "from IPython.display import IFrame\n",
    "IFrame(\"./resources/Tsukiyama.pdf\", width='100%', height=800)"
   ]
  },
  {
   "cell_type": "markdown",
   "metadata": {},
   "source": [
    "##### Exercise 1\n",
    "* Implement the above algorithm and test your implementation with the graphs given below.\n",
    "* The pseudocode only lists (i.e. prints) the maximal cliques, change the algorithm to return a set containing the maximal cliques.\n",
    "* Comment your code properly.\n",
    "* Use Testcase 1 to perform a visual inspection of your results\n",
    "* Use Testcase 4 to measure the time your implementation needs on different subsets of the [Euroroad](http://konect.uni-koblenz.de/networks/subelj_euroroad) network (graph is provided in the zip file). As a reference: Your implementation should compute the maximal cliques of the biggest subgraph (300 nodes) in under 400 seconds when timing the computation using the cProfile library.\n",
    "\n",
    "##### Hints\n",
    "* Submit your code zipped via [moodle](https://moodle.uni-kassel.de/course/view.php?id=11038) until 17.11.2023 23:55 MEZ\n",
    "* Use the [NetworkX](https://networkx.github.io/documentation/stable/) library.\n",
    "* Below the Implementation section is a Test section that is used to test your code."
   ]
  },
  {
   "cell_type": "markdown",
   "metadata": {},
   "source": [
    "### Implementation\n",
    "Implement your solution in this section.\n",
    "Use the predefined methods.\n",
    "You can add more methods if you want."
   ]
  },
  {
   "cell_type": "code",
   "execution_count": 14,
   "metadata": {},
   "outputs": [],
   "source": [
    "import random\n",
    "import networkx as nx\n",
    "import matplotlib.pyplot as plt\n",
    "\n",
    "'''own functions'''\n",
    "def get_maximal_cliques(vertices: set, vertex: int, G: nx.Graph):\n",
    "    '''\n",
    "    :param vertices: set of vertices\n",
    "    :param vertex: maximal vertex index (= number of vertices checked)\n",
    "    :param G: undirected graph\n",
    "    :return: True if vertex is maximal clique in G[j] (j <= i), False otherwise\n",
    "    '''\n",
    "    if vertex < 1:  # vertex index starts at 1\n",
    "        return ValueError(\"vertex index must be >= 1\")\n",
    "    \n",
    "    for j in range(1, vertex):\n",
    "        if (vertex not in vertices) and (vertices in list(G.adj[vertex])):    # subset of neighbours\n",
    "            return False\n",
    "        \n",
    "    return True\n",
    "\n",
    "def get_parent(vertices: set, vertex: int, G: nx.Graph):\n",
    "    '''\n",
    "    :param vertices: set of vertices\n",
    "    :param vertex: maximal vertex index (= number of vertices checked)\n",
    "    :param G: undirected graph\n",
    "    :return: returns first maximal clique in G[j] (j < i) that contains vertices - vertex\n",
    "    '''\n",
    "    p_vertices = vertices - {vertex}\n",
    "    for j in range(1, vertex):\n",
    "        if p_vertices in list(G.adj[j]):\n",
    "            p_vertices = p_vertices.union({j})\n",
    "    return p_vertices\n",
    "\n",
    "def insert_vertex(vertex: int, clique: set, G: nx.Graph):\n",
    "    '''\n",
    "    :param vertex: maximal vertex index (= number of vertices checked)\n",
    "    :param clique: maximal clique in G[j] (j < vertex)\n",
    "    :param G: undirected graph\n",
    "    :return: returns maximal cliques in G[i] that contain vertex\n",
    "    '''\n",
    "    if vertex == G.number_of_nodes() + 1:\n",
    "        return clique   # already maximal clique\n",
    "    else:\n",
    "        if clique in list(G.adj[vertex]):\n",
    "            #  Clique clique in neighbours of vertex\n",
    "            clique = clique.union({vertex})\n",
    "            clique = insert_vertex(vertex + 1, clique, G)\n",
    "            clique = clique - {vertex}\n",
    "        else:\n",
    "            # left child\n",
    "            clique = insert_vertex(vertex + 1, clique, G) \n",
    "\n",
    "            # right child\n",
    "            print(k, type(k), )\n",
    "            k = clique.intersection({G.adj[vertex]}).union({vertex})\n",
    "            if get_maximal_cliques(k, vertex, G) and (clique == get_parent(k, vertex, G)):\n",
    "                clique = k\n",
    "                clique = insert_vertex(vertex + 1, clique, G)\n",
    "                clique = get_parent(clique, vertex, G)\n",
    "    return clique\n",
    "\n",
    "\n",
    "\n",
    "'''predefined functions'''\n",
    "\n",
    "def all_maximal_cliques(undirected_graph):\n",
    "    '''\n",
    "    Input: undirected Graph\n",
    "    Output: set containing all maximal \n",
    "    '''   \n",
    "    print(\"Graph: \", undirected_graph.nodes, undirected_graph.edges)\n",
    "\n",
    "    C = {}\n",
    "    C = insert_vertex(vertex=1, clique=C, G=undirected_graph)\n",
    "    \n",
    "    return \n",
    "\n"
   ]
  },
  {
   "cell_type": "markdown",
   "metadata": {},
   "source": [
    "### Tests \n",
    "This section contains four testcases that can be used to test if the implemented methods correctly compute the maximal cliques.\n",
    "Further it contains code to draw the graphs and inspect them visually given the NetworkX library was used."
   ]
  },
  {
   "cell_type": "code",
   "execution_count": 12,
   "metadata": {},
   "outputs": [],
   "source": [
    "def inspect_cliques_visually(G, plotall=False):\n",
    "    nx.draw(G, node_color='lightblue', with_labels = True)\n",
    "    plt.show()\n",
    "    max_cliques = all_maximal_cliques(G)\n",
    "    print('maximal cliques:',*[set(c) for c in max_cliques])\n",
    "    if plotall:\n",
    "        for clique in max_cliques:\n",
    "            val_map = {c:'yellow' for c in clique}\n",
    "            values = [val_map.get(node, 'lightblue') for node in G.nodes()]\n",
    "            nx.draw(G, node_color=values, with_labels = True)\n",
    "            plt.show()"
   ]
  },
  {
   "cell_type": "code",
   "execution_count": 15,
   "metadata": {},
   "outputs": [
    {
     "data": {
      "image/png": "[encoded data removed]",
      "text/plain": [
       "<Figure size 640x480 with 1 Axes>"
      ]
     },
     "metadata": {},
     "output_type": "display_data"
    },
    {
     "name": "stdout",
     "output_type": "stream",
     "text": [
      "Graph:  [1, 2, 3, 4, 5, 6, 7] [(1, 2), (1, 3), (1, 4), (2, 3), (2, 4), (3, 4), (4, 5), (5, 6), (5, 7), (6, 7)]\n"
     ]
    },
    {
     "ename": "AttributeError",
     "evalue": "'dict' object has no attribute 'intersection'",
     "output_type": "error",
     "traceback": [
      "\u001b[0;31m---------------------------------------------------------------------------\u001b[0m",
      "\u001b[0;31mAttributeError\u001b[0m                            Traceback (most recent call last)",
      "\u001b[1;32m/Users/klara/Developer/Uni/WiSe2023_24/SozNet/task1/SNAEx1b-KlaraGutekunst35677772.ipynb Zelle 8\u001b[0m line \u001b[0;36m6\n\u001b[1;32m      <a href='vscode-notebook-cell:/Users/klara/Developer/Uni/WiSe2023_24/SozNet/task1/SNAEx1b-KlaraGutekunst35677772.ipynb#X10sZmlsZQ%3D%3D?line=2'>3</a>\u001b[0m G1\u001b[39m.\u001b[39madd_nodes_from([\u001b[39m1\u001b[39m,\u001b[39m2\u001b[39m,\u001b[39m3\u001b[39m,\u001b[39m4\u001b[39m,\u001b[39m5\u001b[39m,\u001b[39m6\u001b[39m,\u001b[39m7\u001b[39m])\n\u001b[1;32m      <a href='vscode-notebook-cell:/Users/klara/Developer/Uni/WiSe2023_24/SozNet/task1/SNAEx1b-KlaraGutekunst35677772.ipynb#X10sZmlsZQ%3D%3D?line=3'>4</a>\u001b[0m G1\u001b[39m.\u001b[39madd_edges_from([(\u001b[39m1\u001b[39m,\u001b[39m2\u001b[39m),(\u001b[39m1\u001b[39m,\u001b[39m3\u001b[39m),(\u001b[39m1\u001b[39m,\u001b[39m4\u001b[39m),(\u001b[39m2\u001b[39m,\u001b[39m3\u001b[39m),(\u001b[39m2\u001b[39m,\u001b[39m4\u001b[39m),(\u001b[39m3\u001b[39m,\u001b[39m4\u001b[39m),(\u001b[39m4\u001b[39m,\u001b[39m5\u001b[39m),(\u001b[39m5\u001b[39m,\u001b[39m6\u001b[39m),(\u001b[39m5\u001b[39m,\u001b[39m7\u001b[39m),(\u001b[39m6\u001b[39m,\u001b[39m7\u001b[39m)])\n\u001b[0;32m----> <a href='vscode-notebook-cell:/Users/klara/Developer/Uni/WiSe2023_24/SozNet/task1/SNAEx1b-KlaraGutekunst35677772.ipynb#X10sZmlsZQ%3D%3D?line=5'>6</a>\u001b[0m inspect_cliques_visually(G1,plotall\u001b[39m=\u001b[39;49m\u001b[39mTrue\u001b[39;49;00m)\n",
      "\u001b[1;32m/Users/klara/Developer/Uni/WiSe2023_24/SozNet/task1/SNAEx1b-KlaraGutekunst35677772.ipynb Zelle 8\u001b[0m line \u001b[0;36m4\n\u001b[1;32m      <a href='vscode-notebook-cell:/Users/klara/Developer/Uni/WiSe2023_24/SozNet/task1/SNAEx1b-KlaraGutekunst35677772.ipynb#X10sZmlsZQ%3D%3D?line=1'>2</a>\u001b[0m nx\u001b[39m.\u001b[39mdraw(G, node_color\u001b[39m=\u001b[39m\u001b[39m'\u001b[39m\u001b[39mlightblue\u001b[39m\u001b[39m'\u001b[39m, with_labels \u001b[39m=\u001b[39m \u001b[39mTrue\u001b[39;00m)\n\u001b[1;32m      <a href='vscode-notebook-cell:/Users/klara/Developer/Uni/WiSe2023_24/SozNet/task1/SNAEx1b-KlaraGutekunst35677772.ipynb#X10sZmlsZQ%3D%3D?line=2'>3</a>\u001b[0m plt\u001b[39m.\u001b[39mshow()\n\u001b[0;32m----> <a href='vscode-notebook-cell:/Users/klara/Developer/Uni/WiSe2023_24/SozNet/task1/SNAEx1b-KlaraGutekunst35677772.ipynb#X10sZmlsZQ%3D%3D?line=3'>4</a>\u001b[0m max_cliques \u001b[39m=\u001b[39m all_maximal_cliques(G)\n\u001b[1;32m      <a href='vscode-notebook-cell:/Users/klara/Developer/Uni/WiSe2023_24/SozNet/task1/SNAEx1b-KlaraGutekunst35677772.ipynb#X10sZmlsZQ%3D%3D?line=4'>5</a>\u001b[0m \u001b[39mprint\u001b[39m(\u001b[39m'\u001b[39m\u001b[39mmaximal cliques:\u001b[39m\u001b[39m'\u001b[39m,\u001b[39m*\u001b[39m[\u001b[39mset\u001b[39m(c) \u001b[39mfor\u001b[39;00m c \u001b[39min\u001b[39;00m max_cliques])\n\u001b[1;32m      <a href='vscode-notebook-cell:/Users/klara/Developer/Uni/WiSe2023_24/SozNet/task1/SNAEx1b-KlaraGutekunst35677772.ipynb#X10sZmlsZQ%3D%3D?line=5'>6</a>\u001b[0m \u001b[39mif\u001b[39;00m plotall:\n",
      "\u001b[1;32m/Users/klara/Developer/Uni/WiSe2023_24/SozNet/task1/SNAEx1b-KlaraGutekunst35677772.ipynb Zelle 8\u001b[0m line \u001b[0;36m7\n\u001b[1;32m     <a href='vscode-notebook-cell:/Users/klara/Developer/Uni/WiSe2023_24/SozNet/task1/SNAEx1b-KlaraGutekunst35677772.ipynb#X10sZmlsZQ%3D%3D?line=70'>71</a>\u001b[0m \u001b[39mprint\u001b[39m(\u001b[39m\"\u001b[39m\u001b[39mGraph: \u001b[39m\u001b[39m\"\u001b[39m, undirected_graph\u001b[39m.\u001b[39mnodes, undirected_graph\u001b[39m.\u001b[39medges)\n\u001b[1;32m     <a href='vscode-notebook-cell:/Users/klara/Developer/Uni/WiSe2023_24/SozNet/task1/SNAEx1b-KlaraGutekunst35677772.ipynb#X10sZmlsZQ%3D%3D?line=72'>73</a>\u001b[0m C \u001b[39m=\u001b[39m {}\n\u001b[0;32m---> <a href='vscode-notebook-cell:/Users/klara/Developer/Uni/WiSe2023_24/SozNet/task1/SNAEx1b-KlaraGutekunst35677772.ipynb#X10sZmlsZQ%3D%3D?line=73'>74</a>\u001b[0m C \u001b[39m=\u001b[39m insert_vertex(vertex\u001b[39m=\u001b[39;49m\u001b[39m1\u001b[39;49m, clique\u001b[39m=\u001b[39;49mC, G\u001b[39m=\u001b[39;49mundirected_graph)\n\u001b[1;32m     <a href='vscode-notebook-cell:/Users/klara/Developer/Uni/WiSe2023_24/SozNet/task1/SNAEx1b-KlaraGutekunst35677772.ipynb#X10sZmlsZQ%3D%3D?line=75'>76</a>\u001b[0m \u001b[39mreturn\u001b[39;00m\n",
      "\u001b[1;32m/Users/klara/Developer/Uni/WiSe2023_24/SozNet/task1/SNAEx1b-KlaraGutekunst35677772.ipynb Zelle 8\u001b[0m line \u001b[0;36m5\n\u001b[1;32m     <a href='vscode-notebook-cell:/Users/klara/Developer/Uni/WiSe2023_24/SozNet/task1/SNAEx1b-KlaraGutekunst35677772.ipynb#X10sZmlsZQ%3D%3D?line=48'>49</a>\u001b[0m     clique \u001b[39m=\u001b[39m clique \u001b[39m-\u001b[39m {vertex}\n\u001b[1;32m     <a href='vscode-notebook-cell:/Users/klara/Developer/Uni/WiSe2023_24/SozNet/task1/SNAEx1b-KlaraGutekunst35677772.ipynb#X10sZmlsZQ%3D%3D?line=49'>50</a>\u001b[0m \u001b[39melse\u001b[39;00m:\n\u001b[1;32m     <a href='vscode-notebook-cell:/Users/klara/Developer/Uni/WiSe2023_24/SozNet/task1/SNAEx1b-KlaraGutekunst35677772.ipynb#X10sZmlsZQ%3D%3D?line=50'>51</a>\u001b[0m     \u001b[39m# left child\u001b[39;00m\n\u001b[0;32m---> <a href='vscode-notebook-cell:/Users/klara/Developer/Uni/WiSe2023_24/SozNet/task1/SNAEx1b-KlaraGutekunst35677772.ipynb#X10sZmlsZQ%3D%3D?line=51'>52</a>\u001b[0m     clique \u001b[39m=\u001b[39m insert_vertex(vertex \u001b[39m+\u001b[39;49m \u001b[39m1\u001b[39;49m, clique, G) \n\u001b[1;32m     <a href='vscode-notebook-cell:/Users/klara/Developer/Uni/WiSe2023_24/SozNet/task1/SNAEx1b-KlaraGutekunst35677772.ipynb#X10sZmlsZQ%3D%3D?line=53'>54</a>\u001b[0m     \u001b[39m# right child\u001b[39;00m\n\u001b[1;32m     <a href='vscode-notebook-cell:/Users/klara/Developer/Uni/WiSe2023_24/SozNet/task1/SNAEx1b-KlaraGutekunst35677772.ipynb#X10sZmlsZQ%3D%3D?line=54'>55</a>\u001b[0m     k \u001b[39m=\u001b[39m clique\u001b[39m.\u001b[39mintersection(\u001b[39mlist\u001b[39m(G\u001b[39m.\u001b[39madj[vertex]))\u001b[39m.\u001b[39munion({vertex})\n",
      "\u001b[1;32m/Users/klara/Developer/Uni/WiSe2023_24/SozNet/task1/SNAEx1b-KlaraGutekunst35677772.ipynb Zelle 8\u001b[0m line \u001b[0;36m5\n\u001b[1;32m     <a href='vscode-notebook-cell:/Users/klara/Developer/Uni/WiSe2023_24/SozNet/task1/SNAEx1b-KlaraGutekunst35677772.ipynb#X10sZmlsZQ%3D%3D?line=48'>49</a>\u001b[0m     clique \u001b[39m=\u001b[39m clique \u001b[39m-\u001b[39m {vertex}\n\u001b[1;32m     <a href='vscode-notebook-cell:/Users/klara/Developer/Uni/WiSe2023_24/SozNet/task1/SNAEx1b-KlaraGutekunst35677772.ipynb#X10sZmlsZQ%3D%3D?line=49'>50</a>\u001b[0m \u001b[39melse\u001b[39;00m:\n\u001b[1;32m     <a href='vscode-notebook-cell:/Users/klara/Developer/Uni/WiSe2023_24/SozNet/task1/SNAEx1b-KlaraGutekunst35677772.ipynb#X10sZmlsZQ%3D%3D?line=50'>51</a>\u001b[0m     \u001b[39m# left child\u001b[39;00m\n\u001b[0;32m---> <a href='vscode-notebook-cell:/Users/klara/Developer/Uni/WiSe2023_24/SozNet/task1/SNAEx1b-KlaraGutekunst35677772.ipynb#X10sZmlsZQ%3D%3D?line=51'>52</a>\u001b[0m     clique \u001b[39m=\u001b[39m insert_vertex(vertex \u001b[39m+\u001b[39;49m \u001b[39m1\u001b[39;49m, clique, G) \n\u001b[1;32m     <a href='vscode-notebook-cell:/Users/klara/Developer/Uni/WiSe2023_24/SozNet/task1/SNAEx1b-KlaraGutekunst35677772.ipynb#X10sZmlsZQ%3D%3D?line=53'>54</a>\u001b[0m     \u001b[39m# right child\u001b[39;00m\n\u001b[1;32m     <a href='vscode-notebook-cell:/Users/klara/Developer/Uni/WiSe2023_24/SozNet/task1/SNAEx1b-KlaraGutekunst35677772.ipynb#X10sZmlsZQ%3D%3D?line=54'>55</a>\u001b[0m     k \u001b[39m=\u001b[39m clique\u001b[39m.\u001b[39mintersection(\u001b[39mlist\u001b[39m(G\u001b[39m.\u001b[39madj[vertex]))\u001b[39m.\u001b[39munion({vertex})\n",
      "    \u001b[0;31m[... skipping similar frames: insert_vertex at line 52 (3 times)]\u001b[0m\n",
      "\u001b[1;32m/Users/klara/Developer/Uni/WiSe2023_24/SozNet/task1/SNAEx1b-KlaraGutekunst35677772.ipynb Zelle 8\u001b[0m line \u001b[0;36m5\n\u001b[1;32m     <a href='vscode-notebook-cell:/Users/klara/Developer/Uni/WiSe2023_24/SozNet/task1/SNAEx1b-KlaraGutekunst35677772.ipynb#X10sZmlsZQ%3D%3D?line=48'>49</a>\u001b[0m     clique \u001b[39m=\u001b[39m clique \u001b[39m-\u001b[39m {vertex}\n\u001b[1;32m     <a href='vscode-notebook-cell:/Users/klara/Developer/Uni/WiSe2023_24/SozNet/task1/SNAEx1b-KlaraGutekunst35677772.ipynb#X10sZmlsZQ%3D%3D?line=49'>50</a>\u001b[0m \u001b[39melse\u001b[39;00m:\n\u001b[1;32m     <a href='vscode-notebook-cell:/Users/klara/Developer/Uni/WiSe2023_24/SozNet/task1/SNAEx1b-KlaraGutekunst35677772.ipynb#X10sZmlsZQ%3D%3D?line=50'>51</a>\u001b[0m     \u001b[39m# left child\u001b[39;00m\n\u001b[0;32m---> <a href='vscode-notebook-cell:/Users/klara/Developer/Uni/WiSe2023_24/SozNet/task1/SNAEx1b-KlaraGutekunst35677772.ipynb#X10sZmlsZQ%3D%3D?line=51'>52</a>\u001b[0m     clique \u001b[39m=\u001b[39m insert_vertex(vertex \u001b[39m+\u001b[39;49m \u001b[39m1\u001b[39;49m, clique, G) \n\u001b[1;32m     <a href='vscode-notebook-cell:/Users/klara/Developer/Uni/WiSe2023_24/SozNet/task1/SNAEx1b-KlaraGutekunst35677772.ipynb#X10sZmlsZQ%3D%3D?line=53'>54</a>\u001b[0m     \u001b[39m# right child\u001b[39;00m\n\u001b[1;32m     <a href='vscode-notebook-cell:/Users/klara/Developer/Uni/WiSe2023_24/SozNet/task1/SNAEx1b-KlaraGutekunst35677772.ipynb#X10sZmlsZQ%3D%3D?line=54'>55</a>\u001b[0m     k \u001b[39m=\u001b[39m clique\u001b[39m.\u001b[39mintersection(\u001b[39mlist\u001b[39m(G\u001b[39m.\u001b[39madj[vertex]))\u001b[39m.\u001b[39munion({vertex})\n",
      "\u001b[1;32m/Users/klara/Developer/Uni/WiSe2023_24/SozNet/task1/SNAEx1b-KlaraGutekunst35677772.ipynb Zelle 8\u001b[0m line \u001b[0;36m5\n\u001b[1;32m     <a href='vscode-notebook-cell:/Users/klara/Developer/Uni/WiSe2023_24/SozNet/task1/SNAEx1b-KlaraGutekunst35677772.ipynb#X10sZmlsZQ%3D%3D?line=51'>52</a>\u001b[0m clique \u001b[39m=\u001b[39m insert_vertex(vertex \u001b[39m+\u001b[39m \u001b[39m1\u001b[39m, clique, G) \n\u001b[1;32m     <a href='vscode-notebook-cell:/Users/klara/Developer/Uni/WiSe2023_24/SozNet/task1/SNAEx1b-KlaraGutekunst35677772.ipynb#X10sZmlsZQ%3D%3D?line=53'>54</a>\u001b[0m \u001b[39m# right child\u001b[39;00m\n\u001b[0;32m---> <a href='vscode-notebook-cell:/Users/klara/Developer/Uni/WiSe2023_24/SozNet/task1/SNAEx1b-KlaraGutekunst35677772.ipynb#X10sZmlsZQ%3D%3D?line=54'>55</a>\u001b[0m k \u001b[39m=\u001b[39m clique\u001b[39m.\u001b[39;49mintersection(\u001b[39mlist\u001b[39m(G\u001b[39m.\u001b[39madj[vertex]))\u001b[39m.\u001b[39munion({vertex})\n\u001b[1;32m     <a href='vscode-notebook-cell:/Users/klara/Developer/Uni/WiSe2023_24/SozNet/task1/SNAEx1b-KlaraGutekunst35677772.ipynb#X10sZmlsZQ%3D%3D?line=55'>56</a>\u001b[0m \u001b[39mif\u001b[39;00m get_maximal_cliques(k, vertex, G) \u001b[39mand\u001b[39;00m (clique \u001b[39m==\u001b[39m get_parent(k, vertex, G)):\n\u001b[1;32m     <a href='vscode-notebook-cell:/Users/klara/Developer/Uni/WiSe2023_24/SozNet/task1/SNAEx1b-KlaraGutekunst35677772.ipynb#X10sZmlsZQ%3D%3D?line=56'>57</a>\u001b[0m     clique \u001b[39m=\u001b[39m k\n",
      "\u001b[0;31mAttributeError\u001b[0m: 'dict' object has no attribute 'intersection'"
     ]
    }
   ],
   "source": [
    "# Testcase 1\n",
    "G1 = nx.Graph()\n",
    "G1.add_nodes_from([1,2,3,4,5,6,7])\n",
    "G1.add_edges_from([(1,2),(1,3),(1,4),(2,3),(2,4),(3,4),(4,5),(5,6),(5,7),(6,7)])\n",
    "\n",
    "inspect_cliques_visually(G1,plotall=True)"
   ]
  },
  {
   "cell_type": "code",
   "execution_count": null,
   "metadata": {},
   "outputs": [],
   "source": [
    "# Testcase 2\n",
    "G2 = nx.Graph()\n",
    "G2.add_nodes_from([1,2,3,4,5,6,7])\n",
    "G2.add_edges_from([(1,2),(1,3),(1,4),(2,3),(4,5),(4,6),(4,7),(5,6),(5,7),(6,7)])\n",
    "inspect_cliques_visually(G2)"
   ]
  },
  {
   "cell_type": "code",
   "execution_count": null,
   "metadata": {},
   "outputs": [],
   "source": [
    "# Testcase 3 \n",
    "G3 = nx.read_gml('./resources/adjnoun.gml', label='id')\n",
    "all_maximal_cliques(G3)"
   ]
  },
  {
   "cell_type": "code",
   "execution_count": null,
   "metadata": {},
   "outputs": [],
   "source": [
    "# Testcase 4\n",
    "G4 = nx.read_adjlist(\"./resources/out.subelj_euroroad_euroroad\", comments='%',nodetype=int)\n",
    "G4_sub1 = G4.subgraph(range(1,100))\n",
    "G4_sub2 = G4.subgraph(range(1,200))\n",
    "G4_sub3 = G4.subgraph(range(1,300))\n",
    "import cProfile\n",
    "cProfile.run('all_maximal_cliques(G4_sub1)')\n",
    "cProfile.run('all_maximal_cliques(G4_sub2)')\n",
    "cProfile.run('all_maximal_cliques(G4_sub3)')"
   ]
  }
 ],
 "metadata": {
  "kernelspec": {
   "display_name": "Python 3 (ipykernel)",
   "language": "python",
   "name": "python3"
  },
  "language_info": {
   "codemirror_mode": {
    "name": "ipython",
    "version": 3
   },
   "file_extension": ".py",
   "mimetype": "text/x-python",
   "name": "python",
   "nbconvert_exporter": "python",
   "pygments_lexer": "ipython3",
   "version": "3.11.5"
  },
  "vscode": {
   "interpreter": {
    "hash": "54dde15eeccb64c05b0ed31aaff800dfd5adc55402d65d85a0fd7af2950801f8"
   }
  }
 },
 "nbformat": 4,
 "nbformat_minor": 4
}
