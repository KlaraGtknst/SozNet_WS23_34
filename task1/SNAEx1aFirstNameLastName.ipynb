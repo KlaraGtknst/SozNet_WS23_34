{
 "cells": [
  {
   "cell_type": "markdown",
   "metadata": {},
   "source": [
    "# Social Network Analysis - Exercise Sheet 1a)\n",
    "\n",
    "\n",
    "\n",
    "### Generation of Graphs for given Degree Sequences\n",
    "\n",
    "In the following we present two slightly different algorithms;\n",
    "one constructs a graph with a *sparse core*, the other constructs a graph with a *dense core*.\n",
    "We assume that the sum of all degrees is more then $2(n-1)$ where n is the number of nodes.\n",
    "\n",
    "For both algorithms we need a subroutine called `connectivity`. This subroutine first of all checks wheter the constructed graph is connected. \n",
    "If the graph $G$ is not connected, it finds a connected component that contains a cycle. A cycle is a walk of length at least 3 where the starting and end point coincide and the corresponding sequence of traversed edges consists only of pairwise different edges.\n",
    "Such a connected component must exist because of the assumption on the degrees made above.\n",
    "Let $uv$ be an edge in the cylce, and $st$ be an edge in another connected component.\n",
    "We now delete edges $uv$ and $st$, and insert edges $us$ and $vt$ to the network.\n",
    "\n",
    "*Sparse Core.*\n",
    "In this section we describe an algorithm that constructs a graph with a given degree sequence that additionally is sparse. \n",
    "We are given a degree sequence $d_1 \\geq d_2 \\geq \\cdots \\geq d_n$, and we assign the vertices $v_1, v_2,\\ldots,v_n$ to those degrees.\n",
    "As long as there exists a vertex $v_i$ with $d_i>0$, we choose the vertex $v_l$ with the currently lowest degree $d_l$.\n",
    "Then we insert $d_l$ edges from $v_l$ to the first $d_l$ vertices with highest degree.\n",
    "After that we update the residual vertex degrees $d_i = d_i-1$ for $i=1,\\ldots,d_l$ and $d_l=0$.\n",
    "Last,but not least, we have to check connectivity and, if necessary, establish it using the above mentioned method `connectivity`.\n",
    "\n",
    "*Dense Core.*\n",
    "To construct a graph with a dense core for a certain degree sequence, we only have to change the above algorithm for sparse cores slightly.\n",
    "As long as there exists a vertex $v_i$ with $d_i>0$ we now choose such a vertex arbitrarily and insert edges from $v_i$ to the $d_i$ vertices with the highest residual degrees.\n",
    "After that we only have to update the residual degrees and establish connectivity if it is not given.\n",
    "\n",
    "\n",
    "##### Exercise 1\n",
    "Read the above text and implement the three methods `connectivity`, `sparse_core` and `dense_core` accordingly.\n",
    "Comment your code properly.\n",
    "\n",
    "##### Hints\n",
    "* Submit your code zipped via [moodle](https://moodle.uni-kassel.de/course/view.php?id=11038) until 17.11.2023 23:55 MEZ\n",
    "* Use the [NetworkX](https://networkx.github.io/documentation/stable/) library.\n",
    "* Below the Implementation section is a Test section with three degree sequences that can be used to check your code.\n"
   ]
  },
  {
   "cell_type": "markdown",
   "metadata": {},
   "source": [
    "### Implementation\n",
    "\n",
    "Implement your solution in this section.\n",
    "Use the predefined methods.\n",
    "You can add more methods if you want.\n",
    "\n",
    "If you do not want to use the NetworkX library add a method to extract the degree sequence from your graph.\n"
   ]
  },
  {
   "cell_type": "code",
   "execution_count": null,
   "metadata": {},
   "outputs": [],
   "source": [
    "import random\n",
    "import networkx as nx\n",
    "import matplotlib.pyplot as plt\n",
    "\n",
    "def connectivity(graph):\n",
    "    '''\n",
    "    Takes a graph as input, if the graph is not connected \n",
    "    it connects the graphs components and returns a connected graph.\n",
    "    '''\n",
    "    \n",
    "    # TODO\n",
    "    \n",
    "    return graph\n",
    "\n",
    "\n",
    "def sparse_core(degree_sequence):\n",
    "    '''\n",
    "    Generates a connected sparse core graph for a given degree sequence.\n",
    "    \n",
    "    Parameters\n",
    "    ----------\n",
    "    degree_sequence : list of int\n",
    "    \n",
    "    \n",
    "    Returns\n",
    "    -------\n",
    "    graph\n",
    "    '''\n",
    "    G = nx.Graph()\n",
    "\n",
    "    # TODO\n",
    "    \n",
    "    G = connectivity(G)\n",
    "    return G\n",
    "\n",
    "\n",
    "def dense_core(degree_sequence):\n",
    "    '''\n",
    "    Generates a connected dense core graph for a given degree sequence.\n",
    "    \n",
    "    Parameters\n",
    "    ----------\n",
    "    degree_sequence : list of int\n",
    "    \n",
    "    \n",
    "    Returns\n",
    "    -------\n",
    "    graph\n",
    "    '''\n",
    "    G = nx.Graph()\n",
    "\n",
    "    # TODO\n",
    "    \n",
    "    G = connectivity(G)\n",
    "    return G\n"
   ]
  },
  {
   "cell_type": "markdown",
   "metadata": {},
   "source": [
    "### Tests \n",
    "This section contains three degree sequences that can be used to test if the implemented methods generate graphs with the correct degree sequence.\n",
    "Further it contains code to draw the graphs and inspect them visually."
   ]
  },
  {
   "cell_type": "code",
   "execution_count": null,
   "metadata": {
    "scrolled": true
   },
   "outputs": [],
   "source": [
    "degree_sequences = [\n",
    "    [14, 12, 11, 11, 11, 11, 11, 11, 11, 10, 10, 10, 10, 10, 10, 10, 10, 10, 10, 9, 9, 9, 9, 9, 9, 9, 9, 9, 9, 9, 9, 9, 9, 9, 9, 9, 9, 9, 9, 9, 9, 8, 8, 8, 8, 8, 8, 8, 8, 8, 8, 8, 8, 8, 8, 8, 8, 8, 8, 8, 8, 8, 8, 8, 8, 8, 8, 8, 8, 8, 8, 8, 8, 8, 7, 7, 7, 7, 7, 7, 7, 7, 7, 7, 7, 7, 7, 7, 7, 7, 7, 7, 7, 7, 7, 7, 7, 7, 7, 7, 7, 7, 7, 7, 6, 6, 6, 6, 6, 6, 6, 6, 6, 6, 6, 6, 6, 6, 6, 6, 6, 6, 6, 6, 6, 6, 6, 6, 6, 6, 6, 6, 6, 6, 6, 6, 6, 6, 6, 6, 5, 5, 5, 5, 5, 5, 5, 5, 5, 5, 5, 5, 5, 5, 5, 5, 5, 5, 5, 5, 5, 5, 5, 5, 5, 5, 5, 5, 5, 5, 5, 5, 5, 5, 5, 5, 5, 5, 5, 5, 5, 5, 5, 5, 5, 5, 5, 5, 5, 5, 5, 5, 5, 5, 5, 5, 4, 4, 4, 4, 4, 4, 4, 4, 4, 4, 4, 4, 4, 4, 4, 4, 4, 4, 4, 4, 4, 3, 3, 3, 3, 3, 3, 3, 3, 3, 3, 3, 3, 3, 3, 3, 3, 3, 3, 3, 3, 2, 2, 2, 2, 2, 2, 2, 2, 2, 2, 2, 2, 1],\n",
    "    [11, 11, 11, 11, 11, 10, 10, 10, 9, 9, 9, 9, 9, 9, 8, 8, 8, 8, 8, 8, 8, 8, 8, 8, 8, 8, 8, 7, 7, 7, 7, 7, 7, 7, 7, 7, 7, 7, 7, 7, 7, 7, 7, 7, 7, 7, 7, 6, 6, 6, 6, 6, 6, 6, 6, 6, 6, 6, 6, 6, 6, 6, 6, 6, 6, 6, 6, 6, 6, 6, 6, 6, 6, 6, 6, 6, 6, 6, 6, 6, 6, 6, 6, 5, 5, 5, 5, 5, 5, 5, 5, 5, 5, 5, 5, 5, 5, 5, 5, 5, 5, 5, 5, 5, 5, 5, 5, 5, 5, 5, 5, 5, 5, 5, 5, 5, 5, 5, 5, 5, 5, 5, 5, 5, 5, 5, 5, 5, 4, 4, 4, 4, 4, 4, 4, 4, 4, 4, 4, 4, 4, 4, 4, 4, 4, 4, 4, 4, 4, 4, 4, 4, 4, 4, 4, 4, 4, 4, 4, 4, 4, 4, 4, 4, 4, 4, 4, 4, 4, 4, 4, 4, 4, 3, 3, 3, 3, 3, 3, 3, 3, 3, 3, 3, 3, 3, 3, 3, 3, 3, 3, 3, 3, 3, 3, 3, 3, 3, 3, 3, 3, 3, 3, 3, 3, 3, 3, 3, 3, 3, 3, 3, 3, 3, 3, 3, 3, 3, 3, 2, 2, 2, 2, 2, 2, 2, 2, 2, 2, 2, 2, 2, 2, 2, 2, 1, 1, 1, 1, 1, 1, 1, 1, 1, 1],\n",
    "    [10, 9, 8, 8, 8, 7, 7, 7, 7, 7, 7, 6, 6, 6, 6, 6, 6, 6, 6, 6, 6, 6, 6, 6, 6, 6, 6, 5, 5, 5, 5, 5, 5, 5, 5, 5, 5, 4, 4, 4, 4, 4, 4, 4, 4, 4, 4, 4, 4, 4, 4, 4, 4, 4, 4, 4, 3, 3, 3, 3, 3, 3, 3, 3, 3, 3, 3, 3, 3, 3, 3, 3, 3, 3, 3, 3, 3, 2, 2, 2, 2, 2, 2, 2, 2, 2, 2, 2, 2, 2, 1, 1, 1, 1, 1, 1, 1, 1, 1, 1]\n",
    "]\n",
    "\n",
    "for dseq in degree_sequences:\n",
    "    print('dense core :\\n')\n",
    "    G = dense_core(dseq)\n",
    "    degree_sequence = sorted([v for n,v in nx.degree(G)],reverse=True)\n",
    "    assert(degree_sequence == dseq)\n",
    "    nx.draw(G,node_color='g',node_size=50,width=0.7) \n",
    "    plt.draw() \n",
    "    plt.show()\n",
    "    \n",
    "    print('sparse_core:\\n')\n",
    "    G = sparse_core(dseq)\n",
    "    degree_sequence = sorted([v for n,v in nx.degree(G)],reverse=True)\n",
    "    assert(degree_sequence == dseq)\n",
    "    nx.draw(G,node_color='g',node_size=50,width=0.7) \n",
    "    plt.draw() \n",
    "    plt.show()"
   ]
  }
 ],
 "metadata": {
  "kernelspec": {
   "display_name": "Python 3 (ipykernel)",
   "language": "python",
   "name": "python3"
  },
  "language_info": {
   "codemirror_mode": {
    "name": "ipython",
    "version": 3
   },
   "file_extension": ".py",
   "mimetype": "text/x-python",
   "name": "python",
   "nbconvert_exporter": "python",
   "pygments_lexer": "ipython3",
   "version": "3.11.2"
  },
  "vscode": {
   "interpreter": {
    "hash": "31f2aee4e71d21fbe5cf8b01ff0e069b9275f58929596ceb00d14d90e3e16cd6"
   }
  }
 },
 "nbformat": 4,
 "nbformat_minor": 4
}
