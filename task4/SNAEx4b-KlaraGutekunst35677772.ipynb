{
 "cells": [
  {
   "attachments": {},
   "cell_type": "markdown",
   "metadata": {},
   "source": [
    "# Social Network Analysis - Exercise Sheet 4b)\n",
    "\n",
    "\n",
    "### Roles and Cohesion.\n",
    "\n",
    "This exercise is dedicated towards roles and cohesion in networks. By completing this exercise sheet, you gain insights to the _\"weaker\"_ notions for community detection. For this, you investigate k-cores and modularity.  \n",
    "\n",
    "\n",
    "#### Guidelines\n",
    "* Submit your code zipped via [moodle](https://moodle.uni-kassel.de/course/view.php?id=11038) until 12.01.2023 23:55 MEZ\n",
    "* Use the [NetworkX](https://networkx.github.io/documentation/stable/) library for your graphs."
   ]
  },
  {
   "cell_type": "markdown",
   "metadata": {},
   "source": [
    "##### Exercise 1:\n",
    "* Write a function that computes the k-core of a graph.  \n",
    "* What complexity does your algorithm have? Compare it to complexities related to cliques.\n",
    "* Write a function that given a graph G computes the size of all non-empty k-cores of G and plots the core number k against the size of that core."
   ]
  },
  {
   "cell_type": "code",
   "execution_count": null,
   "metadata": {},
   "outputs": [],
   "source": []
  },
  {
   "cell_type": "markdown",
   "metadata": {},
   "source": [
    "##### Exercise 2:\n",
    "* Write a function that computes the modulatity of a clustering in a Graph\n",
    "* What is a simple way to use maximal cliques to generate a clustering of high modularity? Implement your algorithm."
   ]
  },
  {
   "cell_type": "code",
   "execution_count": null,
   "metadata": {},
   "outputs": [],
   "source": []
  },
  {
   "cell_type": "markdown",
   "metadata": {},
   "source": [
    "#####  Small Case Study\n",
    "* Research for a small network data set with 20-50 nodes, provide its source and describe the network.\n",
    "* Use your function to compute all its non-empty core sizes and plot them.\n",
    "* Which k-cores do you find the most interesting based on the k-core size distribution? \n",
    "* What insights did you gain from the k-core?\n",
    "* Use your partition method to compute a clustering of the network and its modularity. What can you learn based on your results? \n",
    "* Compute a maximum clique and a maximal threshold graph of your network. Compare them to the k-core and clustering of your network."
   ]
  },
  {
   "cell_type": "code",
   "execution_count": null,
   "metadata": {},
   "outputs": [],
   "source": []
  }
 ],
 "metadata": {
  "kernelspec": {
   "display_name": "Python 3 (ipykernel)",
   "language": "python",
   "name": "python3"
  },
  "language_info": {
   "codemirror_mode": {
    "name": "ipython",
    "version": 3
   },
   "file_extension": ".py",
   "mimetype": "text/x-python",
   "name": "python",
   "nbconvert_exporter": "python",
   "pygments_lexer": "ipython3",
   "version": "3.11.2"
  },
  "vscode": {
   "interpreter": {
    "hash": "916dbcbb3f70747c44a77c7bcd40155683ae19c65e1c03b4aa3499c5328201f1"
   }
  }
 },
 "nbformat": 4,
 "nbformat_minor": 4
}
