{
 "cells": [
  {
   "attachments": {},
   "cell_type": "markdown",
   "metadata": {},
   "source": [
    "# Social Network Analysis - Exercise Sheet 4a)\n",
    "\n",
    "\n",
    "### Roles in graphs.\n",
    "\n",
    "In this exercise, we will determine roles in graphs based on (equivalence) relations. More specifically, you will implement methods which decide whether some relation is fullfilled. Based on these and some generic equivalence relations that a user can specify, you will compute partitions of graphs as well as maximal roles.\n",
    "\n",
    "#### Guidelines\n",
    "* Submit your code zipped via [moodle](https://moodle.uni-kassel.de/course/view.php?id=11038) until 12.01.2023 23:55 MEZ\n",
    "* Use the [NetworkX](https://networkx.github.io/documentation/stable/) library for your graphs."
   ]
  },
  {
   "cell_type": "markdown",
   "metadata": {},
   "source": [
    "##### Exercise 1:\n",
    "1. Implement a function which decides whether two nodes of a graph are structurally equivalent.\n",
    "2. Implement a function which for some relation decides whether it is an equivalence relation.\n",
    "3. Implement a function which takes as its parameters some input equivalence decision function and a graph. The function then computes a partition of the graph based on the equivalence relation.\n",
    "4. Implement a function which, for some input equivalence decision function, computes maximal roles.\n",
    "5. Provide an example network and compute all roles. What insights do you get?"
   ]
  },
  {
   "cell_type": "markdown",
   "metadata": {},
   "source": [
    "# Structural Equivalence (Def. 9.1)\n",
    "- undirected graph G, vertices v,w\n",
    "- v and w are structurally equivalent if\n",
    "    - for all vertices u: u is adjacent to v iff u is adjacent to w (same neighbourhood)\n",
    "\n",
    "# TODO: directed graph"
   ]
  },
  {
   "cell_type": "code",
   "execution_count": 235,
   "metadata": {},
   "outputs": [],
   "source": [
    "def check_structural_equivalence(graph, v, w):\n",
    "    '''\n",
    "    :param graph: a networkx graph\n",
    "    :param v: a node in graph\n",
    "    :param w: a node in graph\n",
    "    \n",
    "    :return: True if v and w are structurally equivalent (Def. 9.10), False otherwise\n",
    "    '''\n",
    "    return set(graph.neighbors(v)) == set(graph.neighbors(w))"
   ]
  },
  {
   "cell_type": "markdown",
   "metadata": {},
   "source": [
    "# Equivalence Relation (Def. 9.4)\n",
    "- relation R on set M\n",
    "- R is equivalence relation if\n",
    "    - R is reflexive\n",
    "    - R is symmetric\n",
    "    - R is transitive"
   ]
  },
  {
   "cell_type": "code",
   "execution_count": 236,
   "metadata": {},
   "outputs": [],
   "source": [
    "def check_equivalence_relation(relation):\n",
    "    '''\n",
    "    :param relation: a list of tuples (v, w) where v and w are nodes in a graph that are in relation to each other\n",
    "    :return: True if relation is an equivalence relation, False otherwise\n",
    "    '''\n",
    "    for v, w in relation:\n",
    "        # reflexivity\n",
    "        if v != w and (((v, v) not in relation) or ((w, w) not in relation)):\n",
    "            print('not reflexive')\n",
    "            return False\n",
    "        \n",
    "        # symmetry\n",
    "        if (w, v) not in relation:\n",
    "            print('not symmetric')\n",
    "            return False\n",
    "    \n",
    "        # transitivity: (v, w) and (w, u[0]) implies (v, u[1])\n",
    "        for u in relation:\n",
    "            if (u[0] == w) and (not (v, u[1]) in relation):\n",
    "                print('not transitive')\n",
    "                return False\n",
    "    return True"
   ]
  },
  {
   "cell_type": "code",
   "execution_count": 237,
   "metadata": {},
   "outputs": [],
   "source": [
    "import itertools\n",
    "\n",
    "\n",
    "def compute_equivalence_partition(equiv_relation, graph):\n",
    "    '''\n",
    "    :param equiv_relation: a function that takes a node in graph and returns its value\n",
    "    :param graph: a networkx graph\n",
    "    :return: a list of equivalence classes (each class is a set of nodes)\n",
    "    '''\n",
    "    combos = list(itertools.product(list(graph.nodes()), repeat=2))\n",
    "    relation = [(x,y) for x,y in combos if equiv_relation(x,y)]\n",
    "    #assert check_equivalence_relation(relation), 'relation is not an equivalence relation.'\n",
    "\n",
    "    partition = {}\n",
    "    for node1, node2 in itertools.combinations(list(graph.nodes()), 2):\n",
    "        output = equiv_relation(node1, node2)\n",
    "        partition.setdefault(node1, set([node1]))\n",
    "        if output:\n",
    "            partition[node1] = partition[node1].union(set([node2]))\n",
    "\n",
    "    for class1, class2 in itertools.combinations(partition.keys(), 2):\n",
    "        if (class1 not in partition.keys()) or (class2 not in partition.keys()):\n",
    "            continue\n",
    "        if partition[class2].issubset(partition[class1]):\n",
    "            del(partition[class2])\n",
    "            \n",
    "    return list(partition.values())\n",
    "\n",
    "    "
   ]
  },
  {
   "cell_type": "code",
   "execution_count": 238,
   "metadata": {},
   "outputs": [
    {
     "name": "stdout",
     "output_type": "stream",
     "text": [
      "{frozenset({1, 4, 7}), frozenset({8, 2, 5}), frozenset({0, 9, 3, 6})}\n",
      "[{0, 9, 3, 6}, {1, 4, 7}, {8, 2, 5}]\n"
     ]
    }
   ],
   "source": [
    "# examples from https://networkx.org/documentation/stable/reference/algorithms/generated/networkx.algorithms.minors.equivalence_classes.html\n",
    "from networkx import equivalence_classes\n",
    "import networkx as nx\n",
    "\n",
    "\n",
    "X = set(range(10))\n",
    "def mod3(x, y): return (x - y) % 3 == 0\n",
    "\n",
    "nx_sol = equivalence_classes(X, mod3)\n",
    "print(nx_sol)\n",
    "graph = nx.Graph()\n",
    "graph.add_nodes_from(X)\n",
    "print(compute_equivalence_partition(mod3, graph))"
   ]
  },
  {
   "cell_type": "markdown",
   "metadata": {},
   "source": [
    "# Role (Def. 9.7)\n",
    "- graph G, structural equivalence relation R\n",
    "- equivalence class of vertex v is its role \n",
    "\n",
    "VL provides algorithm for computing maximal structural equivalence on undirected graphs"
   ]
  },
  {
   "cell_type": "code",
   "execution_count": 239,
   "metadata": {},
   "outputs": [],
   "source": [
    "def maximal_structural_equivalence(graph):\n",
    "    '''\n",
    "    :param graph: a networkx graph\n",
    "    :return: a list of maximal structural equivalence classes (each class is a set of nodes)\n",
    "    '''\n",
    "    new_role = 1\n",
    "    roles = {}\n",
    "    for node in graph.nodes():\n",
    "        roles.setdefault(node, 1)\n",
    "    temp_role = {}\n",
    "    temp_role[new_role] = 0\n",
    "    for node in graph.nodes():\n",
    "        for neighbor in graph.neighbors(node):\n",
    "            if temp_role[roles[neighbor]] == 0:\n",
    "                new_role += 1\n",
    "                temp_role[roles[neighbor]] = new_role\n",
    "                temp_role[new_role] = roles[neighbor]\n",
    "            roles[neighbor] = temp_role[roles[neighbor]]\n",
    "        for neighbor in graph.neighbors(node):\n",
    "            temp_role[temp_role[roles[neighbor]]] = 0\n",
    "            temp_role[roles[neighbor]] = 0\n",
    "    return roles"
   ]
  },
  {
   "cell_type": "code",
   "execution_count": 240,
   "metadata": {},
   "outputs": [],
   "source": [
    "def get_colour_map(classes) -> dict:\n",
    "    '''\n",
    "    :param classes: list of set of nodes, each representing a structural equivalence class\n",
    "   \n",
    "    :return: dictionary of colours for nodes, where blue is core and red is periphery\n",
    "    '''\n",
    "    colour_map = {}\n",
    "    for colour, equiv_class in enumerate(classes):\n",
    "        colour_map.update({node: colour for node in equiv_class})\n",
    "    return colour_map"
   ]
  },
  {
   "cell_type": "code",
   "execution_count": 241,
   "metadata": {},
   "outputs": [
    {
     "name": "stdout",
     "output_type": "stream",
     "text": [
      "{0: 12, 1: 13, 2: 14, 3: 12, 4: 13, 5: 14, 6: 12, 7: 13, 8: 14, 9: 12, 'class 0': 11, 'class 1': 9, 'class 2': 10}\n"
     ]
    },
    {
     "data": {
      "image/png": "[encoded data removed]",
      "text/plain": [
       "<Figure size 640x480 with 1 Axes>"
      ]
     },
     "metadata": {},
     "output_type": "display_data"
    }
   ],
   "source": [
    "# test\n",
    "\n",
    "graph = nx.Graph()\n",
    "graph.add_nodes_from(list(range(10)))\n",
    "edges = []\n",
    "equivalence_classes = compute_equivalence_partition(mod3, graph)\n",
    "for i, equiv_class in enumerate(equivalence_classes):\n",
    "    for v in equiv_class:\n",
    "        edges.append((v, f'class {i}'))\n",
    "graph.add_edges_from(edges)\n",
    "extended_classes = equivalence_classes.copy()\n",
    "extended_classes.append(set([i for i in range(len(graph.nodes()), len(graph.nodes())+len(equivalence_classes))]))\n",
    "colour_map = get_colour_map(extended_classes)\n",
    "colour_map = dict(sorted(colour_map.items()))   # colourmap order: (C nodes, P nodes) != order of nodes in G \n",
    "nx.draw(graph, with_labels = True, node_color= list(colour_map.values()))\n",
    "\n",
    "max_struc_equiv = maximal_structural_equivalence(graph)\n",
    "print(max_struc_equiv) # ignore 'class i' nodes\n",
    "for equiv_class in equivalence_classes:\n",
    "    assert len(set([max_struc_equiv[v] for v in equiv_class])) == 1, 'elements in the same equivalence class should have the same role'"
   ]
  },
  {
   "cell_type": "markdown",
   "metadata": {},
   "source": [
    "# Insights from example network"
   ]
  }
 ],
 "metadata": {
  "kernelspec": {
   "display_name": "Python 3 (ipykernel)",
   "language": "python",
   "name": "python3"
  },
  "language_info": {
   "codemirror_mode": {
    "name": "ipython",
    "version": 3
   },
   "file_extension": ".py",
   "mimetype": "text/x-python",
   "name": "python",
   "nbconvert_exporter": "python",
   "pygments_lexer": "ipython3",
   "version": "3.11.6"
  },
  "vscode": {
   "interpreter": {
    "hash": "916dbcbb3f70747c44a77c7bcd40155683ae19c65e1c03b4aa3499c5328201f1"
   }
  }
 },
 "nbformat": 4,
 "nbformat_minor": 4
}
