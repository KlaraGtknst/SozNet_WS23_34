{
 "cells": [
  {
   "attachments": {},
   "cell_type": "markdown",
   "metadata": {},
   "source": [
    "# Social Network Analysis - Exercise Sheet 6a)\n",
    "\n",
    "\n",
    "### Knowledge Graphs\n",
    "\n",
    "In this task, you will work with Knowledge graphs. In particular, you will use Wikidata to generate a data set. You will then analyze the data set and provide visualizations. You are free to choose what to analyze in this task.\n",
    "\n",
    "#### Guidelines\n",
    "* Submit your code zipped via [moodle](https://moodle.uni-kassel.de/course/view.php?id=11038) until 09.02.2023 23:55 MEZ\n",
    "* Use the help pages from the WikiData website (https://www.wikidata.org) to learn how to retrieve data."
   ]
  },
  {
   "cell_type": "markdown",
   "metadata": {},
   "source": [
    "##### Exercise:\n",
    "1. Use the Wikidata API to generate your own data set. The data set should consist of at least 30 entities.\n",
    "2. Analyze the data set with either:\n",
    "    - Methods you implemented in the previous exercises\n",
    "    - New methods.\n",
    "3. Provide visualizations for your analyses.\n",
    "\n",
    "Make sure to add all code for the analyses as well as for creating the data set within the jupyter notebook. The data set should be created when the notebook is run."
   ]
  },
  {
   "cell_type": "code",
   "execution_count": null,
   "metadata": {},
   "outputs": [],
   "source": []
  }
 ],
 "metadata": {
  "kernelspec": {
   "display_name": "Python 3 (ipykernel)",
   "language": "python",
   "name": "python3"
  },
  "language_info": {
   "codemirror_mode": {
    "name": "ipython",
    "version": 3
   },
   "file_extension": ".py",
   "mimetype": "text/x-python",
   "name": "python",
   "nbconvert_exporter": "python",
   "pygments_lexer": "ipython3",
   "version": "3.11.2"
  },
  "vscode": {
   "interpreter": {
    "hash": "916dbcbb3f70747c44a77c7bcd40155683ae19c65e1c03b4aa3499c5328201f1"
   }
  }
 },
 "nbformat": 4,
 "nbformat_minor": 4
}
