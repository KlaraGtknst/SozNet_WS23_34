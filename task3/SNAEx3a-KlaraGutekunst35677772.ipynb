{
 "cells": [
  {
   "cell_type": "markdown",
   "metadata": {},
   "source": [
    "# Social Network Analysis - Exercise Sheet 3a)\n",
    "\n",
    "\n",
    "### Distances in Directed Graphs.\n",
    "\n",
    "In this exercise, we will work with directed graphs. In particular, we look at measures of *distance* between nodes in a graph. In the tasks below, you will think about the properties of measures depending on properties of the graph. You will then define and implement some distance measures on your own and use these to generate graphs based on distance thresholds. Your implementations will be applied to some real world data set.\n",
    "\n",
    "#### Guidelines\n",
    "* Submit your code zipped via [moodle](https://moodle.uni-kassel.de/course/view.php?id=11038) until 15.12.2023 23:55 MEZ\n",
    "* Use the [NetworkX](https://networkx.github.io/documentation/stable/) library for your graphs."
   ]
  },
  {
   "cell_type": "markdown",
   "metadata": {},
   "source": [
    "##### Exercise 1:\n",
    "A metric $d$ on a set $X$ is a function $d: X \\times X \\mapsto \\mathbb{R}$ such that for some arbitrary $x,y,z \\in X$ the following properties hold:\n",
    "1. $d(x,y) \\geq 0$ and $d(x,y) = 0 \\iff x = y$\n",
    "2. $d(x,y) = d(y,x)$ (Symmetry)\n",
    "3. $d(x,y) \\leq d(x,z) + d(z,y)$ (Triangle Inequality)\n",
    "\n",
    "Based on the definition above, solve the following tasks (text only):\n",
    "1. Recall the directed graph distance function from the lecture. In this exercise, we will call this the *geodesic distance*. Is the directed graph distance function described in the lecture a metric? Discuss the three properties above.\n",
    "* Under which circumstances does the geodesic distance become a metric on the vertices of a DiGraph?\n",
    "* What can geodesic distances tell us about a graph?\n",
    "* How is the geodesic distance related to Point Bases?\n",
    "* Find and describe at least two real-world examples where geodesics are useful."
   ]
  },
  {
   "cell_type": "code",
   "execution_count": null,
   "metadata": {},
   "outputs": [],
   "source": []
  },
  {
   "cell_type": "markdown",
   "metadata": {},
   "source": [
    "##### Exercise 2:\n",
    "* Implement an algorithm to compute geodesic distances in a directed graph. You must implement this algorithm on your own, i.e., you are not allowed to use the *networkx* method which computes this. However, you can use other methods from *networkx*.\n",
    "* Think of how, based on geodesic distances, **symmetric** distances can be defined that tell us something about a directed graph.\n",
    "    * Define, explain and implement three examples for such distances.\n",
    "    * Give at least one example that also fullfills the triangle inequality.\n",
    "    * If neccesary, you can define conditions on the graph under which distances can be computed. In this case, your implementation should test for the conditions and handle them accordingly.\n",
    "* Implement a method which takes as its parameters a directed graph, a distance function $d$ and a lower and an upper treshold. Based on this, the method returns an undirected, edge-weighted graph with the weights $w(u,v) = d(u,v)$.\n",
    "    * In the resulting graph, an edge $\\{u,v\\}$ should exist if and only if the distance $d(u,v)$ is greater than or equal to the lower treshold value and lower than the upper treshold.\n",
    "* Apply your implementation to a real world data set. Visualize and interpret the results. If one of your distance measures only works with certain kinds of graphs, try to find a way to solve this."
   ]
  },
  {
   "cell_type": "code",
   "execution_count": null,
   "metadata": {},
   "outputs": [],
   "source": []
  }
 ],
 "metadata": {
  "kernelspec": {
   "display_name": "Python 3 (ipykernel)",
   "language": "python",
   "name": "python3"
  },
  "language_info": {
   "codemirror_mode": {
    "name": "ipython",
    "version": 3
   },
   "file_extension": ".py",
   "mimetype": "text/x-python",
   "name": "python",
   "nbconvert_exporter": "python",
   "pygments_lexer": "ipython3",
   "version": "3.11.2"
  },
  "vscode": {
   "interpreter": {
    "hash": "54dde15eeccb64c05b0ed31aaff800dfd5adc55402d65d85a0fd7af2950801f8"
   }
  }
 },
 "nbformat": 4,
 "nbformat_minor": 4
}
