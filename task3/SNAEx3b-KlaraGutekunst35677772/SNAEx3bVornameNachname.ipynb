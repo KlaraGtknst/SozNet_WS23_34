{
 "cells": [
  {
   "cell_type": "markdown",
   "metadata": {},
   "source": [
    "# Social Network Analysis - Exercise Sheet 3b\n",
    "\n",
    "\n",
    "### Small World Networks\n",
    "\n",
    "Small-world networks were introduced by Duncan Watts and Steven Strogatz in a paper in *Nature* in 1998. \n",
    "They are linked to the small world phenomenon, that describes the property of social networks to have small average path lengths. Additionally Watts and Strogatz observed that there are networks where the neighborhood of every node is densly connected, a property that random networks usually do not exhibit.\n",
    "In their paper they investigated this phenomenon and coined the term small-world networks.\n",
    "The paper is supplied together with the jupyter notebook.\n",
    "\n",
    "---\n",
    "\n",
    "Given a Graph $(V,E)$ the **average shortest path** ($ASP$) in a Graph is defined by $ASP := \\sum_{u,v\\in V}\\frac{d(u,v)}{|V|(|V|-1)}$ where $d(u,v)$ is the shortest path from $u$ to $v$.\n",
    "\n",
    "The **local clustering coefficient** of a node in an undirected graph $C_i$ for $i\\in V$ is defined by the ratio of edges in the neighborhood of $i$ compared to the number of possible edges, i.e., $C_i := \\frac{2|\\{e_{jk}: v_j,v_k \\in N_i, e_{jk} \\in E\\}|}{|N_i|(|N_i|-1)}$ where $N_i$ is the neighborhood of the node $i$. \n",
    "\n",
    "Remark: $|N_i|(|N_i|-1)/2$ is the number of edges in a fully connected neighborhood, i.e., if the neighborhood would form a complete subgraph.\n",
    "\n",
    "The **average local clustering coefficient** ($ALCC$) is defined as the average over all local clustering coefficients, i.e., $ ALCC := \\frac{1}{|V|}\\sum_{i=1}^{|V|} C_i$.\n",
    "\n",
    "The definition of a small world network is as follows:\n",
    "\n",
    "A network is called a **small-world network** if its average shortest path ($ASP$) is small and after the networks edges have pairwise been randomized (typically around $100\\cdot |E|$ times) the $ASP$ remains nearly unchanged but the average local clustering coefficient ($ALCC$) breakes down, i.e., $$ASP_{actual} \\approx APS_{randomized}$$ and $$ALCC_{actual} \\gg ALCC_{randomized}.$$\n",
    "\n",
    "Remark: For small-world social networks an $ASP\\leq 4$ and an $ALCC\\geq 70\\%$ are common, for other networks, e.g., the ones mentioned in the paper, smaller $ALCC$ values and larger $ASP$ values are also normal. The important part is the breaking down of the $ALCC$ when comparing to a randomized network.\n",
    "\n",
    "\n",
    "#### Edge Randomization\n",
    "\n",
    "The **edge randomization** should choose two edges uniformly at random from the edge set and swap nodes, e.g., edges $(a,b)$ and $(c,d)$ swap nodes and become $(a,d)$ and $(c,b)$. The method should keep the node degrees intact.\n",
    "To achive this it must be checked whether the edges have common nodes and whether the edges that would be generated through swapping already exist.\n"
   ]
  },
  {
   "cell_type": "code",
   "execution_count": null,
   "metadata": {},
   "outputs": [],
   "source": [
    "# Execute this cell to show the PDF containing the paper or open the PDF seperately\n",
    "from IPython.display import IFrame\n",
    "IFrame(\"./texts/Watts_Strogatz_small-world-networks.pdf\", width='100%', height=800)"
   ]
  },
  {
   "cell_type": "code",
   "execution_count": null,
   "metadata": {},
   "outputs": [],
   "source": [
    "# Execute this cell to show the PDF containing the algorithm or open the PDF seperately\n",
    "from IPython.display import IFrame\n",
    "IFrame(\"./texts/Floyd_Warshall_undirected.pdf\", width='100%', height=600)"
   ]
  },
  {
   "cell_type": "markdown",
   "metadata": {},
   "source": [
    "##### Exercise\n",
    "1. Implement an algorithm to compute the ASP. As an intermediate step implement the Floyd-Warshall algorithm for undirected graphs (see above) to compute all shortest paths.\n",
    "2. Implement an algorithm to compute the ALCC.\n",
    "3. Implement the edge randomization as presented above.\n",
    "4. Analyze the given Networks with regard to the small world property and write a short report containing the computations and the conclusions you draw. Since this is a Jupyter Notebook, simply use different Cells for the Text and Code parts in the Report section below.\n",
    "\n",
    "\n",
    "##### Hints\n",
    "* Submit your code zipped via [moodle](https://moodle.uni-kassel.de/course/view.php?id=11038) until 15.12.2023 23:55 MEZ\n",
    "* You can use the [NetworkX](https://networkx.github.io/documentation/stable/) library.\n",
    "* Below the Implementation section is a Test section that can be used to check your code."
   ]
  },
  {
   "cell_type": "markdown",
   "metadata": {},
   "source": [
    "### Implementation\n",
    "Implement your solution in this section.\n",
    "Use the predefined methods.\n",
    "You can add more methods if you want."
   ]
  },
  {
   "cell_type": "code",
   "execution_count": null,
   "metadata": {},
   "outputs": [],
   "source": [
    "import random as rd\n",
    "import networkx as nx\n",
    "import matplotlib.pyplot as plt\n",
    "import collections\n",
    "\n",
    "def floyd_warshall(G):\n",
    "    \n",
    "    # TODO\n",
    "    \n",
    "    return \n",
    "\n",
    "def average_shortest_path(G):\n",
    "    \n",
    "    # TODO\n",
    "    \n",
    "    return ASP\n",
    "\n",
    "def average_local_clustering_coefficient(G):\n",
    "    \n",
    "    # TODO\n",
    "    \n",
    "    return ALCC\n",
    "\n",
    "def randomize_edges(G, n=100):\n",
    "    \n",
    "    # TODO\n",
    "    \n",
    "    return"
   ]
  },
  {
   "cell_type": "markdown",
   "metadata": {},
   "source": [
    "### Tests \n",
    "This section contains testcases that can be used to test if the implemented methods work correctly.\n",
    "Further it contains code to draw the graphs and inspect them visually given the NetworkX library was used."
   ]
  },
  {
   "cell_type": "code",
   "execution_count": null,
   "metadata": {},
   "outputs": [],
   "source": [
    "# Testcase 1\n",
    "G = nx.Graph([[1,2],[2,3],[2,3],[2,5],[3,4],[1,4],[4,5],[4,6],[5,6]])\n",
    "assert(abs(1.46666666-average_shortest_path(G))<0.001)\n",
    "assert(abs(0.25-average_local_clustering_coefficient(G))<0.001)\n",
    "degree_sequence = sorted([v for n,v in nx.degree(G)],reverse=True)\n",
    "randomize_edges(G,100*len(G.edges()))\n",
    "degree_sequence_after_random = sorted([v for n,v in nx.degree(G)],reverse=True)\n",
    "assert(degree_sequence == degree_sequence_after_random)\n",
    "nx.draw(G,with_labels = True, node_color='lightblue')\n",
    "plt.show()\n",
    "\n",
    "# Testcase 2\n",
    "G = nx.read_adjlist(\"./graphs/five_circle_testgraph.adjlist\")\n",
    "assert(abs(1.5-average_shortest_path(G))<0.001)\n",
    "assert(abs(0-average_local_clustering_coefficient(G))<0.001)\n",
    "degree_sequence = sorted([v for n,v in nx.degree(G)],reverse=True)\n",
    "randomize_edges(G,100*len(G.edges()))\n",
    "degree_sequence_after_random = sorted([v for n,v in nx.degree(G)],reverse=True)\n",
    "assert(degree_sequence == degree_sequence_after_random)\n",
    "nx.draw(G,with_labels = True, node_color='lightblue')\n",
    "plt.show()\n",
    "\n",
    "# Testcase 3\n",
    "G = nx.read_adjlist(\"./graphs/testgraph.adjlist\")\n",
    "assert(abs(2.8783-average_shortest_path(G))<0.001)\n",
    "assert(abs(0.45019-average_local_clustering_coefficient(G))<0.001)\n",
    "degree_sequence = sorted([v for n,v in nx.degree(G)],reverse=True)\n",
    "randomize_edges(G,100*len(G.edges()))\n",
    "degree_sequence_after_random = sorted([v for n,v in nx.degree(G)],reverse=True)\n",
    "assert(degree_sequence == degree_sequence_after_random)\n",
    "\n",
    "print('Todo está bien \\U0001f603')"
   ]
  },
  {
   "cell_type": "markdown",
   "metadata": {},
   "source": [
    "### Report\n",
    "\n",
    "Analyze the given Networks with regard to the the small world property and write a short report containing the computations and the conclusions you draw. Since this is a Jupyter Notebook, simply use different Cells for the Text and Code parts.\n",
    "\n",
    "The Report should contain basic information about the networks, e.g., number of nodes, and answer the question whether or not the network fits the definition of small world networks.\n",
    "\n",
    "\n",
    "The networks are:\n",
    "\n",
    "\n",
    "* **David Copperfield**\n",
    "    * This is the undirected network of common noun and adjective adjacencies for the novel \"David Copperfield\" by English 19th century writer Charles Dickens. A node represents either a noun or an adjective. An edge connects two words that occur in adjacent positions. The network is not bipartite, i.e., there are edges connecting adjectives with adjectives, nouns with nouns and adjectives with nouns.\n",
    "\n",
    "* **Jazz musicians**\n",
    "    * This is the collaboration network between Jazz musicians. Each node is a Jazz musician and an edge denotes that two musicians have played together in a band. The data was collected in 2003.\n",
    "    \n",
    "* **Zachary karate club**\n",
    "    * This is the well-known and much-used Zachary karate club network. The data was collected from the members of a university karate club by Wayne Zachary in 1977. Each node represents a member of the club, and each edge represents a tie between two members of the club. The network is undirected. An often discussed problem using this dataset is to find the two groups of people into which the karate club split after an argument between two teachers."
   ]
  },
  {
   "cell_type": "markdown",
   "metadata": {},
   "source": [
    "#### David Copperfield"
   ]
  },
  {
   "cell_type": "code",
   "execution_count": null,
   "metadata": {},
   "outputs": [],
   "source": [
    "G1 = nx.read_gml('./graphs/adjnoun.gml', label='id')\n"
   ]
  },
  {
   "cell_type": "markdown",
   "metadata": {},
   "source": [
    "#### Jazz musicians"
   ]
  },
  {
   "cell_type": "code",
   "execution_count": null,
   "metadata": {},
   "outputs": [],
   "source": [
    "G2 = nx.read_adjlist(\"./graphs/out.arenas-jazz\", comments='%',nodetype=int)\n"
   ]
  },
  {
   "cell_type": "markdown",
   "metadata": {},
   "source": [
    "#### Zachary karate club"
   ]
  },
  {
   "cell_type": "code",
   "execution_count": null,
   "metadata": {},
   "outputs": [],
   "source": [
    "G3 = nx.read_adjlist(\"./graphs/out.ucidata-zachary\", comments='%',nodetype=int)\n"
   ]
  }
 ],
 "metadata": {
  "kernelspec": {
   "display_name": "Python 3 (ipykernel)",
   "language": "python",
   "name": "python3"
  },
  "language_info": {
   "codemirror_mode": {
    "name": "ipython",
    "version": 3
   },
   "file_extension": ".py",
   "mimetype": "text/x-python",
   "name": "python",
   "nbconvert_exporter": "python",
   "pygments_lexer": "ipython3",
   "version": "3.11.2"
  },
  "vscode": {
   "interpreter": {
    "hash": "54dde15eeccb64c05b0ed31aaff800dfd5adc55402d65d85a0fd7af2950801f8"
   }
  }
 },
 "nbformat": 4,
 "nbformat_minor": 4
}
