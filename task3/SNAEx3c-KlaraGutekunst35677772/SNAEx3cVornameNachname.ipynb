{
 "cells": [
  {
   "cell_type": "markdown",
   "metadata": {},
   "source": [
    "# Social Network Analysis - Exercise Sheet 3\n",
    "\n",
    "\n",
    "### Bipartite Graph Generators\n",
    "\n",
    "The random generation of graphs is important for the task of network analysis.\n",
    "There is a multitude of random generators for graphs available, the most prominent being the Erdős–Rényi model.\n",
    "In the field of social network analysis the Watts and Strogatz model (small-worlds) and the Barabási–Albert model (scale-free networks with preferential attachment) also became prominent generation models to more adequately generate networks mimicking at least some aspects of empirically observed networks.\n",
    "\n",
    "However, none of these models can be used as is to generate bipartite graphs and bipartite graphs were analyzed by projecting them to both partitions and analyzing the projected graphs using standard graph measures. \n",
    "This way of analyzing bipartite networks drew criticism for not resulting in \n",
    "\n",
    "Therefore, it was nessessary to come up with more appropriate generation models for this important class of networks."
   ]
  },
  {
   "cell_type": "code",
   "execution_count": null,
   "metadata": {},
   "outputs": [],
   "source": [
    "# Execute this cell to show the PDF containing the paper or open the PDF seperately\n",
    "from IPython.display import IFrame\n",
    "IFrame(\"./texts/Bipartite_graphs_as_models_of_complex_networks.pdf\", width='100%', height=800)"
   ]
  },
  {
   "cell_type": "markdown",
   "metadata": {},
   "source": [
    "### Preferential Attachment\n",
    "\n",
    "Preferential attachment means that the more connected a node is, the more likely it is to receive new links. Nodes with higher degree have stronger ability to grab links added to the network.\n",
    "\n",
    "Formally:\n",
    "The probability that a new node is connected to the node $i$ is $$p_i = \\frac{k_i}{\\sum_j k_j}$$\n",
    "where $k_i$ is the degree of node $i$ and the sum is made over all pre-existing nodes $j$.\n",
    "\n",
    "\n",
    "*Hints:*\n",
    "* Only look at bottom nodes not yet connected to the new top node.\n",
    "* You can use *stats.rv_discrete* to create the probability distribution for the new edge."
   ]
  },
  {
   "cell_type": "markdown",
   "metadata": {},
   "source": [
    "## Exercise\n",
    "1. **Implementation of the generator:** Implement the algorithm to generate bipartite random graphs described in section 4.2. \"Growing bipartite model with preferential attachment\" in the paper \"Bipartite graphs as models of complex networks\" (2006).\n",
    "The generator should accept discrete scipy [Distributions](https://docs.scipy.org/doc/scipy/reference/stats.html) as input distributions for the degree distributions. Bipartite graphs shohuld be represented in networkx by [coloring](https://networkx.github.io/documentation/networkx-1.10/reference/algorithms.bipartite.html), i.e., using an attribute `bipartite` to distinguish the nodes where `bipartite=0` identifies top nodes and `bipartite=1` identifies bottom nodes.\n",
    "2. **Implementation of projection and analysis:** Implement a function to project bipartite graphs onto the top and bottom sets using the networkx functionality. Implement functions Connected, ASP, ALCC, Density and ADeg. You can either use your own implementation or networkx functionality. *Hint: When using networkx most of the functions become one-liners.* \n",
    "3. **Evaluation of generated and projected bipartite graphs:** Generate three networks for the given parameters (parameters can be found in the corresponding section) analyze them with respect to connectedness, average shortest path, average local clustering coefficient, density and average degree. Project each network onto both partitions and analyze the projected network with respect to the same properties. \n",
    "\n",
    "##### Hints\n",
    "* Submit your code zipped via [moodle](https://moodle.uni-kassel.de/course/view.php?id=11038) until 15.12.2023 23:55 MEZ\n",
    "* You can use the [NetworkX](https://networkx.github.io/documentation/stable/) library. \n",
    "* Watch out which networkx version you are working with `print(nx.__version__)` and use only the documentation corresonding to that version!\n",
    "* Below the Implementation section is a Test section that can be used to check your code."
   ]
  },
  {
   "cell_type": "markdown",
   "metadata": {},
   "source": [
    "### Implementation\n",
    "Implement your solution in this section.\n",
    "Use the predefined methods.\n",
    "You can add more methods if you want."
   ]
  },
  {
   "cell_type": "code",
   "execution_count": null,
   "metadata": {},
   "outputs": [],
   "source": [
    "import scipy.stats as stats\n",
    "import networkx as nx\n",
    "from networkx.algorithms import bipartite\n",
    "import numpy as np\n",
    "import random as rd\n",
    "\n",
    "\n",
    "def bipartite_graph_generator(top_distribution=stats.binom(10, 0.25), number_of_top_nodes=25, overlap_ratio=0.5):\n",
    "    assert(overlap_ratio <=1)\n",
    "    assert(overlap_ratio >=0)\n",
    "\n",
    "    G = nx.Graph()\n",
    " \n",
    "    # TODO\n",
    "\n",
    "    return G"
   ]
  },
  {
   "cell_type": "markdown",
   "metadata": {},
   "source": [
    "## Tests \n",
    "This section contains testcases that can be used to test if the implemented generator works correctly.\n",
    "\n",
    "The left histogram shows the approximate distribution of the top vertices, the right histogram of the bottom vertices.\n",
    "The left histogram has the exact distribution plotted in red for reference.\n",
    "Small deviations are normal since the testcases used only generate fairly small graphs.\n",
    "The right side should show an approximate power-law distribution."
   ]
  },
  {
   "cell_type": "code",
   "execution_count": null,
   "metadata": {},
   "outputs": [],
   "source": [
    "# Draw the generated Graph\n",
    "import matplotlib.pyplot as plt\n",
    "def analyize_distributions_bipartite_graph(G, distribution=None, attribute='bipartite'):\n",
    "    # Separate by groups\n",
    "    t = list(n for n,d in G.nodes(data=True) if d[attribute]==0)\n",
    "    b = list(n for n,d in G.nodes(data=True) if d[attribute]==1)\n",
    "    \n",
    "    # define proper bin sizes\n",
    "    t_max = max([G.degree(n) for n in t])\n",
    "    t_bins = [-0.5 + i  for i in range(0,t_max+2)]\n",
    "    b_max = max([G.degree(n) for n in b])\n",
    "    b_bins = [-0.5 + i  for i in range(0,b_max+2)]\n",
    "\n",
    "    # create the plots\n",
    "    fig, ax = plt.subplots(1,2,figsize=(12,3))\n",
    "    \n",
    "    # reference histogram in red\n",
    "    if distribution:\n",
    "        ax[0].hist(distribution.rvs(size=5000),bins=t_bins, color='red', density=True)\n",
    "    \n",
    "    ax[0].hist([G.degree(node) for node in t], bins=t_bins, rwidth=0.9, density=True)\n",
    "    ax[0].set_xlabel('Node Degree')\n",
    "    ax[0].set_ylabel('Frequency')\n",
    "    ax[0].set_title(\"Histogram of top node degrees\")\n",
    "    ax[1].hist([G.degree(node) for node in b], bins=b_bins, rwidth=0.9, density=True)\n",
    "    ax[1].set_xlabel('Node Degree')\n",
    "    ax[1].set_ylabel('Frequency')\n",
    "    ax[1].set_title(\"Histogram of bottom node degrees\")\n",
    "    plt.show()\n",
    "    return\n",
    "    \n",
    "def draw_bipartite_graph(G,attribute='bipartite', sort_top=True, sort_bottom=True):\n",
    "    # Separate by group\n",
    "    t = list(n for n,d in G.nodes(data=True) if d[attribute]==0)\n",
    "    b = list(n for n,d in G.nodes(data=True) if d[attribute]==1)\n",
    "    \n",
    "    # create the color map\n",
    "    color_map = []\n",
    "    for node,d in G.nodes(data=True) :\n",
    "        if d[attribute]==0:\n",
    "            color_map.append('orange')\n",
    "        else: color_map.append('lightgreen')  \n",
    "\n",
    "    pos = {}\n",
    "    # Update position for node from each group\n",
    "    # sort the nodes by degree\n",
    "    if sort_top:\n",
    "        t = sorted(t, key=lambda node: G.degree(node),reverse=True)\n",
    "    if sort_bottom:\n",
    "        b = sorted(b, key=lambda node: G.degree(node),reverse=True)\n",
    "    \n",
    "    pos.update((node, (index, 2)) for index, node in enumerate(t))\n",
    "    pos.update((node, (index, 1)) for index, node in enumerate(b))\n",
    "\n",
    "    nx.draw(G, pos=pos, node_color = color_map, with_labels = True)\n",
    "    plt.show()\n",
    "    return"
   ]
  },
  {
   "cell_type": "markdown",
   "metadata": {},
   "source": [
    "### Test 1"
   ]
  },
  {
   "cell_type": "code",
   "execution_count": null,
   "metadata": {},
   "outputs": [],
   "source": [
    "test_distr = stats.rv_discrete(name='custm', values=([1, 2, 2, 2, 5], [1/5 for i in range(5)]))\n",
    "G = bipartite_graph_generator(test_distr,25,0.75)\n",
    "analyize_distributions_bipartite_graph(G,distribution=test_distr)\n",
    "draw_bipartite_graph(G,sort_top=False)"
   ]
  },
  {
   "cell_type": "markdown",
   "metadata": {},
   "source": [
    "### Test 2"
   ]
  },
  {
   "cell_type": "code",
   "execution_count": null,
   "metadata": {},
   "outputs": [],
   "source": [
    "binomial = stats.binom(15, 0.5)\n",
    "G = bipartite_graph_generator(binomial,75,0.85)\n",
    "analyize_distributions_bipartite_graph(G,distribution=binomial)"
   ]
  },
  {
   "cell_type": "markdown",
   "metadata": {},
   "source": [
    "### Test 3"
   ]
  },
  {
   "cell_type": "code",
   "execution_count": null,
   "metadata": {},
   "outputs": [],
   "source": [
    "geometric = stats.geom(0.25)\n",
    "G = bipartite_graph_generator(geometric,75,0.85)\n",
    "analyize_distributions_bipartite_graph(G,distribution=geometric)"
   ]
  },
  {
   "cell_type": "markdown",
   "metadata": {},
   "source": [
    "### Test 4"
   ]
  },
  {
   "cell_type": "code",
   "execution_count": null,
   "metadata": {},
   "outputs": [],
   "source": [
    "uniform_trunc_fibonacci = stats.rv_discrete(name='custm', values=([1, 1, 2, 3, 5, 8, 13], [1/7 for i in range(7)]))\n",
    "G = bipartite_graph_generator(uniform_trunc_fibonacci,75,0.85)\n",
    "analyize_distributions_bipartite_graph(G,distribution=uniform_trunc_fibonacci)"
   ]
  },
  {
   "cell_type": "markdown",
   "metadata": {},
   "source": [
    "## 2 Implementation of projection and analysis\n",
    "\n",
    "**Implement** the functions for the analysis of graphs.\n",
    "You can use your own implementation or the [networkx](https://networkx.github.io/documentation/stable/) implementations.\n",
    "*Hint: When using networkx the functions can mostly be written as one-liners.*\n",
    "\n",
    "\n",
    "**Implement** a projection of the graph onto both the top and bottom node sets. Use the [networkx implementation](https://networkx.github.io/documentation/networkx-1.9/reference/algorithms.bipartite.html) to do this.\n",
    "*Hint: You can use the [G.nodes(data=true)](https://networkx.github.io/documentation/networkx-1.10/reference/generated/networkx.Graph.nodes.html) flag to get the nodes with their corresponding attribute dictionary.*\n"
   ]
  },
  {
   "cell_type": "code",
   "execution_count": null,
   "metadata": {},
   "outputs": [],
   "source": [
    "def Connected(G):\n",
    "    # connectedness of G\n",
    "    connected = # TODO\n",
    "    return connected\n",
    "\n",
    "def ASP(G):\n",
    "    # average shortest path in G\n",
    "    if Connected(G):\n",
    "        ASP = # TODO\n",
    "        return ASP\n",
    "    else:\n",
    "        return float('inf')\n",
    "\n",
    "def ALCC(G):\n",
    "    # average clustering coefficient of G\n",
    "    if Connected(G):\n",
    "        ALCC = # TODO\n",
    "        return ALCC\n",
    "    else:\n",
    "        return -1\n",
    "    \n",
    "def NumNodes(G):\n",
    "    # number of nodes of G\n",
    "    return G.number_of_nodes()\n",
    "\n",
    "def NumEdges(G):\n",
    "    # number of edges of G\n",
    "    return G.number_of_edges()\n",
    "\n",
    "def Density(G):\n",
    "    # density of G\n",
    "    Density = # TODO\n",
    "    return Density\n",
    "\n",
    "def ADeg(G):\n",
    "    # average degree of G\n",
    "    ADeg = # TODO\n",
    "    return ADeg\n",
    "\n",
    "\n",
    "def project_bipartite_graph(G, attribute='bipartite'):\n",
    "    # computes the projections onto the top and bottom node sets of a bipartite graph\n",
    "\n",
    "    # TODO\n",
    "    \n",
    "    return top_graph, bottom_graph"
   ]
  },
  {
   "cell_type": "code",
   "execution_count": null,
   "metadata": {},
   "outputs": [],
   "source": [
    "# compute all functions for a graph\n",
    "functions = [Connected, NumNodes, NumEdges, ASP, ALCC, Density, ADeg]\n",
    "def functions_on_graph(G,functions):\n",
    "    return list(map(lambda f:(f.__name__,f(G)),functions))\n"
   ]
  },
  {
   "cell_type": "markdown",
   "metadata": {},
   "source": [
    "## 3 Evaluation of generated and projected bipartite graphs\n",
    "\n",
    "**Generate** bipartite graphs given the following parameters:\n",
    "\n",
    "1. **Graph 1**\n",
    "    * Distribution: Binomial(15, 0.5) -> stats.binom(15, 0.5)\n",
    "    * Number of Top Nodes: 150\n",
    "    * Overlap Ratio: 0.85\n",
    "    \n",
    "    \n",
    "2. **Graph 2**\n",
    "    * Distribution: Geometric(0.1) -> stats.geom(0.1)\n",
    "    * Number of Top Nodes: 100\n",
    "    * Overlap Ratio: 0.95\n",
    "    \n",
    "    \n",
    "3. **Graph 3**\n",
    "    * Distribution: Discrete Distribution with P(3)=0.1; P(6)=0.5; P(9)=0.3; P(15)=0.1 -> see Test 4 for an example of a custom discrete distribution\n",
    "    * Number of Top Nodes: 150\n",
    "    * Overlap Ratio: 0.5\n",
    "    \n",
    "---\n",
    "    \n",
    "**Analyze** the graphs with respect to:\n",
    "* connectedness\n",
    "* average shortest path\n",
    "* density\n",
    "* average degree\n",
    "\n",
    "---\n",
    "\n",
    "**Project** the graph onto both the top and bottom node sets and **analyze** the projected graphs with respect to:\n",
    "* connectedness\n",
    "* average shortest path\n",
    "* average local clustering coefficient\n",
    "* density\n",
    "* average degree\n",
    "\n",
    "---\n",
    "\n",
    "**Try to generate connected graphs**. \n",
    "Notice that a correctly implemented generator does not guarantee connectedness.\n",
    "Compare the results of the projections and the original graph.\n",
    "Write a **short** summary of your observations, e.g., what is similar, what is not, what changes for the projections etc."
   ]
  },
  {
   "cell_type": "markdown",
   "metadata": {},
   "source": [
    "### Graph 1"
   ]
  },
  {
   "cell_type": "code",
   "execution_count": null,
   "metadata": {},
   "outputs": [],
   "source": [
    "binomial = stats.binom(15, 0.5)\n",
    "G = bipartite_graph_generator(binomial,150,0.85)\n",
    "# TODO"
   ]
  },
  {
   "cell_type": "markdown",
   "metadata": {},
   "source": [
    "#### Observations:\n",
    "\n",
    "    # TODO"
   ]
  },
  {
   "cell_type": "markdown",
   "metadata": {},
   "source": [
    "### Graph 2"
   ]
  },
  {
   "cell_type": "code",
   "execution_count": null,
   "metadata": {},
   "outputs": [],
   "source": [
    "geom = # TODO\n",
    "G = bipartite_graph_generator(# TODO)\n",
    "# TODO"
   ]
  },
  {
   "cell_type": "markdown",
   "metadata": {},
   "source": [
    "#### Observations: \n",
    "\n",
    "    # TODO"
   ]
  },
  {
   "cell_type": "markdown",
   "metadata": {},
   "source": [
    "### Graph 3"
   ]
  },
  {
   "cell_type": "code",
   "execution_count": null,
   "metadata": {},
   "outputs": [],
   "source": [
    "some_discrete_dist = # TODO\n",
    "G = bipartite_graph_generator(# TODO)\n",
    "# TODO"
   ]
  },
  {
   "cell_type": "markdown",
   "metadata": {},
   "source": [
    "#### Observations:\n",
    "\n",
    "    # TODO"
   ]
  }
 ],
 "metadata": {
  "kernelspec": {
   "display_name": "Python 3 (ipykernel)",
   "language": "python",
   "name": "python3"
  },
  "language_info": {
   "codemirror_mode": {
    "name": "ipython",
    "version": 3
   },
   "file_extension": ".py",
   "mimetype": "text/x-python",
   "name": "python",
   "nbconvert_exporter": "python",
   "pygments_lexer": "ipython3",
   "version": "3.11.2"
  },
  "vscode": {
   "interpreter": {
    "hash": "ff17e63579d249065143d80fa259eed17012a1da75a5cd001b1906920a0697c5"
   }
  }
 },
 "nbformat": 4,
 "nbformat_minor": 4
}
