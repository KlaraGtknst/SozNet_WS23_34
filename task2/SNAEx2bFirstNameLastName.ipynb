{
 "cells": [
  {
   "cell_type": "markdown",
   "metadata": {},
   "source": [
    "# Social Network Analysis - Exercise Sheet 2b)\n",
    "\n",
    "\n",
    "### Matches and Covering.\n",
    "\n",
    "This exercise is dedicated towards match relations and vertex covers in networks. By completing this exercise sheet, you first gain insights to the notion of matching relations and vertex cover by investigation real-world relationships. Next you cope with the computation of maximum matching relations/minumum vertex covers. For this you research for an algorithm, describe its functionality and test it in a small case study.\n",
    "\n",
    "#### Guidelines\n",
    "* Submit your code zipped via [moodle](https://moodle.uni-kassel.de/course/view.php?id=11038) until 01.12.2023 23:55 MEZ\n",
    "* Use the [NetworkX](https://networkx.github.io/documentation/stable/) library for your graphs."
   ]
  },
  {
   "cell_type": "markdown",
   "metadata": {},
   "source": [
    "##### Exercise 1:\n",
    "* Describe a fictional network (description only), matching relation and vertex cover. \n",
    "* What real world relationship is modeled by your relation.\n",
    "* Describe how you can generate a minimum vertex cover from a maximum matching relation (Hint: Koenig)"
   ]
  },
  {
   "cell_type": "code",
   "execution_count": null,
   "metadata": {},
   "outputs": [],
   "source": []
  },
  {
   "cell_type": "markdown",
   "metadata": {},
   "source": [
    "##### Exercise 2:\n",
    "* Research for an algorithm that can compute a maximum matching relation or a minimum vertex cover and provide the source of your algorithm\n",
    "* describe how the algorithm works\n",
    "* Implement the algorithm\n",
    "* Implement a converter algorithm to generate a minimum vertex cover from of your computed maximum matching"
   ]
  },
  {
   "cell_type": "code",
   "execution_count": null,
   "metadata": {},
   "outputs": [],
   "source": []
  },
  {
   "cell_type": "markdown",
   "metadata": {},
   "source": [
    "#####  Small Case Study\n",
    "* Provide a small network of at least 15 nodes of your daily life and describe it\n",
    "* Compute a minimum vertex cover and a maximum matching relation of your network\n",
    "* Describe what each covering can model.\n",
    "* What insights to your network did you get from each covering?\n",
    "* Visualize your network and covering relations in a reasonable manner (Hand drawn figure, LaTeX tikzpicture generated figure or networkx plot)"
   ]
  },
  {
   "cell_type": "code",
   "execution_count": null,
   "metadata": {},
   "outputs": [],
   "source": []
  }
 ],
 "metadata": {
  "kernelspec": {
   "display_name": "Python 3 (ipykernel)",
   "language": "python",
   "name": "python3"
  },
  "language_info": {
   "codemirror_mode": {
    "name": "ipython",
    "version": 3
   },
   "file_extension": ".py",
   "mimetype": "text/x-python",
   "name": "python",
   "nbconvert_exporter": "python",
   "pygments_lexer": "ipython3",
   "version": "3.11.2"
  },
  "vscode": {
   "interpreter": {
    "hash": "767d51c1340bd893661ea55ea3124f6de3c7a262a8b4abca0554b478b1e2ff90"
   }
  }
 },
 "nbformat": 4,
 "nbformat_minor": 4
}
