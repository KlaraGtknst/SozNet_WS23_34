{
 "cells": [
  {
   "cell_type": "markdown",
   "metadata": {},
   "source": [
    "# Social Network Analysis - Exercise Sheet 2a\n",
    "\n",
    "### Split Graphs\n",
    "Networks often consist of \"tightly knit cores\" and a loosely connected periphery. A graph $G = (V,E)$ is called a *split graph*, iff G is complete or there exists a partition $\\mathcal{V}=\\{C,P\\}$ of $V$ with $V=C\\cup P$, such that\n",
    "- $C$ is a clique, and\n",
    "- $P$ is an *independent set*, i.e., $G[P]$ has no edges. \n",
    "In this exercise, your task is to find maximal split graphs in a given graph, i.e., which are maximal in their core or periphery size.\n",
    "\n",
    "##### Exercise\n",
    "Throughout this exercise, we will work with split graphs as triples (G,C,P), where G is the split graph (a *networkx* graph) and C and P are lists of core and periphery nodes (e.g., integers).\n",
    "1. Implement the method `assert_split_graph` which, for a given triple $(G,C,P)$ ensures that G is a split graph with core C and periphery P. Implement this method using Python's *assert* statement. Use error messages, which explain why a given triple is not a split graph, in case a test fails.\n",
    "- Implement the method `generate_split_graph`, which generates a split graph with a given core- and periphery size. Periphery nodes should be connected randomly to core nodes.\n",
    "- Implement the method `plot_split_graph`, which draws a split graph.\n",
    "    - Ensure that core and periphery can be distinguished well in the visualization.\n",
    "    - Experiment with the different drawing method of networkx to find a suitable drawing. https://networkx.org/documentation/stable/reference/drawing.html\n",
    "    - If the parameter draw_subgraphs is set to True, the method should draw two additional plots for the subgraphs induced by core and periphery.\n",
    "    - Your plots only need to visualize relatively small graphs (i.e., with less than 50 nodes).\n",
    "- Implement the method `find_split_graphs`. For an input graph $G=(V,E)$, (which itself is not necessarily a split graph) this method finds all split graphs $G[C \\cup P]$ with the following properties:\n",
    "    - There is no larger core than $C$ (i.e., with a higher number of nodes) in the input graph.\n",
    "    - There is no larger periphery than $P$ in the input graph with regard to the given $C$.\n",
    "- Find a network from your daily life that is (or contains) a split graph. Visualize this network and explain what insights you gain from its core and periphery.\n",
    "\n",
    "##### Hints\n",
    "* Submit your code zipped via [moodle](https://moodle.uni-kassel.de/course/view.php?id=11038) until 01.12.2023 23:55 MEZ\n",
    "* You can use the [NetworkX](https://networkx.github.io/documentation/stable/) library. In particular, you can use it for computing maximal cliques.\n",
    "* Ensure that your graphs do not have self-loops, using the provided method.\n",
    "* Below the Implementation section is a Test section that can be used to check your code.\n",
    "\n"
   ]
  },
  {
   "cell_type": "markdown",
   "metadata": {},
   "source": [
    "### Implementation\n",
    "Implement your solution in this section.\n",
    "Use the predefined methods.\n",
    "You can add more methods if you want."
   ]
  },
  {
   "cell_type": "code",
   "execution_count": null,
   "metadata": {},
   "outputs": [],
   "source": [
    "import networkx as nx\n",
    "import numpy as np\n",
    "import matplotlib.pyplot as plt\n",
    "\n",
    "\n",
    "def remove_self_loops(G):\n",
    "    \"\"\"\n",
    "    Modifies a graph G such that all self-loops are removed.\n",
    "    Returns G.\n",
    "    \"\"\"\n",
    "    G.remove_edges_from(nx.selfloop_edges(G))\n",
    "    return G\n",
    "\n",
    "def print_info(G,C,P):\n",
    "    \"\"\"\n",
    "    Prints some info about a given split graph.\n",
    "    \"\"\"\n",
    "    # Print some info about this graph.\n",
    "    print(f\"Size of the split graph: {len(G)}\")\n",
    "    print(f\"Core (size {len(C)}): {C} \")\n",
    "    print(f\"Periphery (size {len(P)}): {P}\")\n",
    "\n",
    "def assert_split_graph(G, C, P):\n",
    "    \"\"\" Ensures that G is a split graph with Core C and periphery P\"\"\"\n",
    "    # TODO\n",
    "    pass\n",
    "\n",
    "def generate_split_graph(C_size, P_size):\n",
    "    \"\"\"\n",
    "    Generates a split graph G which has a core C with C_size nodes and a periphery P of P_size nodes.\n",
    "    Connections between core and periphery are random.\n",
    "    Returns the triple (G, C, P).\n",
    "    \"\"\"\n",
    "    # TODO\n",
    "    pass\n",
    "\n",
    "def plot_split_graph(G, C, P, draw_subgraphs=True):\n",
    "    \"\"\"\n",
    "    Plots a split graph G with core C and periphery P.\n",
    "    If draw_subraphs is true, draws two additional plots, one for\n",
    "    the subgraph of G induced by the core and one for the periphery.\n",
    "    \"\"\"\n",
    "    assert_split_graph(G, C, P)\n",
    "    # TODO\n",
    "\n",
    "def find_split_graphs(inputGraph):\n",
    "    \"\"\"\n",
    "    Returns a list of triples (G,C,P), s.t. each G is a split graph with core C and periphery p.\n",
    "    Only returns split graphs s.t. C is a maximal clique in the input graph, i.e., it is not possible \n",
    "    to add a further node v from the input graph to C while maintaining the clique property\n",
    "    and there exists no other, larger maximal clique.\n",
    "    Likewise, it is not possible to add a further node to P s.t. it is not connected to any of \n",
    "    the other periphery nodes and there exists no other, larger periphery with regard to C.\n",
    "    \"\"\"\n",
    "    # TODO\n",
    "    pass"
   ]
  },
  {
   "cell_type": "markdown",
   "metadata": {},
   "source": [
    "### Testcases\n",
    "Here you can test your methods. Please leave the tests unchanged. You can, however, add further tests, if you like."
   ]
  },
  {
   "cell_type": "code",
   "execution_count": null,
   "metadata": {},
   "outputs": [],
   "source": [
    "# Generate a split graph.\n",
    "mygraph = generate_split_graph(5, 15)\n",
    "\n",
    "# The graph is a triple (G,C,P) that can be unpacked.\n",
    "G,C,P = mygraph\n",
    "\n",
    "# Print some info.\n",
    "# The method-call below is equivalent to print_info(G, C, P).\n",
    "print_info(*mygraph)\n",
    "\n",
    "# Assert that mygraph is a split-graph with core C and partition P.\n",
    "# If yes, nothing should happen. Otherwise, an error-message is shown.\n",
    "assert_split_graph(*mygraph)"
   ]
  },
  {
   "cell_type": "code",
   "execution_count": null,
   "metadata": {},
   "outputs": [],
   "source": [
    "# Visualize a split graph.\n",
    "plot_split_graph(G, C, P, draw_subgraphs=True)"
   ]
  },
  {
   "cell_type": "code",
   "execution_count": null,
   "metadata": {},
   "outputs": [],
   "source": [
    "# Find split graphs in a given graph.\n",
    "splitGraphs = find_split_graphs(G)\n",
    "foundGeneratedGraph = False\n",
    "for s in splitGraphs:\n",
    "    print_info(*s)\n",
    "    if set(s[1]) == set(C) and set(s[2]) == set(P):\n",
    "        foundGeneratedGraph = True\n",
    "        print(\"-> Found the generated graph.\")\n",
    "assert foundGeneratedGraph, \"Generated split graph could not be found\""
   ]
  },
  {
   "cell_type": "markdown",
   "metadata": {},
   "source": [
    "### Split graphs in daily life\n",
    "Here you can visualize a split graph example that occurs in daily life. Explain the insights you gain from this."
   ]
  },
  {
   "cell_type": "code",
   "execution_count": null,
   "metadata": {},
   "outputs": [],
   "source": [
    "# TODO: Solve the last exercise."
   ]
  }
 ],
 "metadata": {
  "kernelspec": {
   "display_name": "Python 3 (ipykernel)",
   "language": "python",
   "name": "python3"
  },
  "language_info": {
   "codemirror_mode": {
    "name": "ipython",
    "version": 3
   },
   "file_extension": ".py",
   "mimetype": "text/x-python",
   "name": "python",
   "nbconvert_exporter": "python",
   "pygments_lexer": "ipython3",
   "version": "3.11.2"
  },
  "vscode": {
   "interpreter": {
    "hash": "767d51c1340bd893661ea55ea3124f6de3c7a262a8b4abca0554b478b1e2ff90"
   }
  }
 },
 "nbformat": 4,
 "nbformat_minor": 4
}
