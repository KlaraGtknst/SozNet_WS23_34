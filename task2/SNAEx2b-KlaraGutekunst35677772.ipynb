{
 "cells": [
  {
   "cell_type": "markdown",
   "metadata": {},
   "source": [
    "# Social Network Analysis - Exercise Sheet 2b)\n",
    "\n",
    "\n",
    "### Matches and Covering.\n",
    "\n",
    "This exercise is dedicated towards match relations and vertex covers in networks. By completing this exercise sheet, you first gain insights to the notion of matching relations and vertex cover by investigation real-world relationships. Next you cope with the computation of maximum matching relations/minumum vertex covers. For this you research for an algorithm, describe its functionality and test it in a small case study.\n",
    "\n",
    "#### Guidelines\n",
    "* Submit your code zipped via [moodle](https://moodle.uni-kassel.de/course/view.php?id=11038) until 01.12.2023 23:55 MEZ\n",
    "* Use the [NetworkX](https://networkx.github.io/documentation/stable/) library for your graphs."
   ]
  },
  {
   "cell_type": "markdown",
   "metadata": {},
   "source": [
    "##### Exercise 1:\n",
    "* Describe a fictional network (description only), matching relation and vertex cover. \n",
    "* What real world relationship is modeled by your relation.\n",
    "* Describe how you can generate a minimum vertex cover from a maximum matching relation (Hint: Koenig)"
   ]
  },
  {
   "cell_type": "markdown",
   "metadata": {},
   "source": [
    "##### fictional network\n",
    "- 9 Knoten, bipartit (A={1,2,3,4,5}, B={6,7,8,9})\n",
    "- Kanten = {(1,6), (1,7), (2,7), (2,8), (3,8), (4,9), (5,9)}\n",
    "\n",
    "##### Real world relationship\n",
    "- Gruppe von Menschen\n",
    "- Knoten = Menge von Bahnstationen\n",
    "- Kanten zwischen zwei Knoten, wenn es dort Gleise gibt\n",
    "- Matching: Zug fährt von einer Station zur nächsten, aber die Stationen dürfen nicht gleichzeitig befahren werden (sonst Kollision) -> Ziel: Maximale Anzahl von Zügen\n",
    "- Vertex Cover: Jede Station muss von einem Mensch beaufsichtigt werden. Mensch kann die ankommenden und abfahrenden Züge seiner Station beaufsichtigen -> Ziel: Minimale Anzahl von Menschen\n",
    "\n",
    "\n",
    "##### Wiederholung\n",
    "- Matching: jeder Knoten ist höchstens Teil einer Kante im Matching\n",
    "- Vertex Cover: von jeder Kante ist mindestens ein Knoten im Vertex Cover enthalten\n",
    "\n",
    "- König: In einem bipartiden Graphen ist die maximale Kardinalität eines Matchings gleich der minimalen Kardinalität eines Knotenüberdeckung (Satz 6.12 Optimierung-Skript).\n",
    "\n",
    "##### Maximum Matching -> Minimum Vertex Cover\n",
    "1. Finde ein maximales Matching\n",
    "2. Wähle alle Knoten, deren Knaten im Matching sind, als Vertex Cover\n",
    "\n",
    "##### Bipartider Graph: Maximum Matching -> Minimum Vertex Cover\n",
    "V = V_1 union V_2\n",
    "1. Finde ein maximales Matching (durch maximalen s-t-Fluss) in in Netzwerk inklusive s und t\n",
    "2. Baue Residualnetwerk (genutze Kanten in Matching umdrehen)\n",
    "3. s-t-Cut S = Menge der von s erreichbaren Knoten in Residualnetzwerk\n",
    "4. Minimum Vertex Cover = (V_1 \\ S) union (V_2 and S)\n"
   ]
  },
  {
   "cell_type": "markdown",
   "metadata": {},
   "source": [
    "##### Exercise 2:\n",
    "* Research for an algorithm that can compute a maximum matching relation or a minimum vertex cover and provide the source of your algorithm\n",
    "* describe how the algorithm works\n",
    "* Implement the algorithm\n",
    "* Implement a converter algorithm to generate a minimum vertex cover from of your computed maximum matching"
   ]
  },
  {
   "cell_type": "markdown",
   "metadata": {},
   "source": [
    "Source: Optimierung-Skript, S. 97 Beweis ganz oben\n",
    "\n",
    "##### Bipartider Graph: Maximum Matching (Kuhn)\n",
    "V = A union B\n",
    "1. empty matching M\n",
    "2. for v in A:\n",
    "    1. if v not adjacent to edge in M:\n",
    "        1. find augmenting path P from v\n",
    "            - look at all edges from v \n",
    "                - if edge not in M, add it to M\n",
    "                - else: follow path along edge and try to find augmenting path (if not possible, go back to v and try next edge)\n",
    "                    - after all nodes scanned, matching is maximal\n",
    "        2. M = M union P"
   ]
  },
  {
   "cell_type": "code",
   "execution_count": null,
   "metadata": {},
   "outputs": [],
   "source": [
    "def find_augmenting_path(graph, matching, node):\n",
    "    \"\"\"\n",
    "    Find an augmenting path in a bipartite graph.\n",
    "    :param graph: a networkx graph\n",
    "    :param matching: a dictionary with the matching\n",
    "    :param node: a node in the graph\n",
    "    :return: a list with the augmenting path\n",
    "    \"\"\"\n",
    "    if node not in matching:\n",
    "        return [node]\n",
    "    elif graph.degree(node) == 0:\n",
    "        return False\n",
    "    else:\n",
    "        next_node = matching[node]\n",
    "        path = find_augmenting_path(graph, matching, next_node)\n",
    "        if path is not False:\n",
    "            path.append(node)\n",
    "            return path\n",
    "        else:\n",
    "            return False\n",
    "\n",
    "def find_max_matching(graph):\n",
    "    \"\"\"\n",
    "    Find maximum matching in a bipartite graph using the Karp algorithm.\n",
    "    :param graph: a networkx graph\n",
    "    :return: a dictionary with the matching\n",
    "    \"\"\"\n",
    "    matching = set()\n",
    "    for node in list(graph.nodes()):\n",
    "        adj_edges = set(graph.edges(node))\n",
    "        if len(matching.intersection(adj_edges)) == 0:\n",
    "            matching.add(node)\n",
    "        else:\n",
    "      \n"
   ]
  },
  {
   "cell_type": "markdown",
   "metadata": {},
   "source": [
    "#####  Small Case Study\n",
    "* Provide a small network of at least 15 nodes of your daily life and describe it\n",
    "* Compute a minimum vertex cover and a maximum matching relation of your network\n",
    "* Describe what each covering can model.\n",
    "* What insights to your network did you get from each covering?\n",
    "* Visualize your network and covering relations in a reasonable manner (Hand drawn figure, LaTeX tikzpicture generated figure or networkx plot)"
   ]
  },
  {
   "cell_type": "code",
   "execution_count": null,
   "metadata": {},
   "outputs": [],
   "source": []
  }
 ],
 "metadata": {
  "kernelspec": {
   "display_name": "Python 3 (ipykernel)",
   "language": "python",
   "name": "python3"
  },
  "language_info": {
   "codemirror_mode": {
    "name": "ipython",
    "version": 3
   },
   "file_extension": ".py",
   "mimetype": "text/x-python",
   "name": "python",
   "nbconvert_exporter": "python",
   "pygments_lexer": "ipython3",
   "version": "3.11.2"
  },
  "vscode": {
   "interpreter": {
    "hash": "767d51c1340bd893661ea55ea3124f6de3c7a262a8b4abca0554b478b1e2ff90"
   }
  }
 },
 "nbformat": 4,
 "nbformat_minor": 4
}
