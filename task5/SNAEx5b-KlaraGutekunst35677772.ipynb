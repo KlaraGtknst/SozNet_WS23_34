{
 "cells": [
  {
   "attachments": {},
   "cell_type": "markdown",
   "metadata": {},
   "source": [
    "# Social Network Analysis - Exercise Sheet 5b)\n",
    "\n",
    "\n",
    "### Multi-Relational Networks (MRGraphs)\n",
    "\n",
    "In this task, you will work with MRGraphs, compositions of relations and their underlying algebraic structure. You will test and demonstrate your implementations on real world data. For the different tasks below, you can or several data sets, if this makes it easier to demonstrate your implementations.\n",
    "\n",
    "#### Guidelines\n",
    "* Submit your code zipped via [moodle](https://moodle.uni-kassel.de/course/view.php?id=11038) until 26.01.2023 23:55 MEZ\n",
    "* Use the [NetworkX](https://networkx.github.io/documentation/stable/) library for your graphs."
   ]
  },
  {
   "cell_type": "markdown",
   "metadata": {},
   "source": [
    "##### Exercise:\n",
    "1. Think of how MRGraph can be implemented. You can use networkx or implement your own.\n",
    "2. Think of some example real world MRGraph with three different relations and implement it (load it into the jupyter notebook).\n",
    "3. Provide or implement some visualization for your MultiGraph.\n",
    "4. Implement structural equivalence for MRGraphs. Apply this to your graph. What does this show you?\n",
    "5. Implement the graph composition (compound relation) of two relations. Your implementation should be able to compose  arbitrarily many further relations.\n",
    "6. Apply the composition to some example in your graph. What are your findings?\n",
    "6. Implement the Construction Algorithm for MRG induced Semigroups and apply it to your data. Why is this useful?"
   ]
  },
  {
   "cell_type": "code",
   "execution_count": null,
   "metadata": {},
   "outputs": [],
   "source": []
  }
 ],
 "metadata": {
  "kernelspec": {
   "display_name": "Python 3 (ipykernel)",
   "language": "python",
   "name": "python3"
  },
  "language_info": {
   "codemirror_mode": {
    "name": "ipython",
    "version": 3
   },
   "file_extension": ".py",
   "mimetype": "text/x-python",
   "name": "python",
   "nbconvert_exporter": "python",
   "pygments_lexer": "ipython3",
   "version": "3.11.2"
  },
  "vscode": {
   "interpreter": {
    "hash": "916dbcbb3f70747c44a77c7bcd40155683ae19c65e1c03b4aa3499c5328201f1"
   }
  }
 },
 "nbformat": 4,
 "nbformat_minor": 4
}
