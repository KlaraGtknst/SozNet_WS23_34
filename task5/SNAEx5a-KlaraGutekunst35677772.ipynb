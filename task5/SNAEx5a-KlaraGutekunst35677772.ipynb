{
 "cells": [
  {
   "attachments": {},
   "cell_type": "markdown",
   "metadata": {},
   "source": [
    "# Social Network Analysis - Exercise Sheet 5a)\n",
    "\n",
    "\n",
    "### Random Graph Models\n",
    "\n",
    "This exercise is dedicated towards random network models, their generation and properties.\n",
    "\n",
    "\n",
    "#### Guidelines\n",
    "* Submit your code zipped via [moodle](https://moodle.uni-kassel.de/course/view.php?id=11038) until 26.01.2023 23:55 MEZ\n",
    "* Use the [NetworkX](https://networkx.github.io/documentation/stable/) library for your graphs."
   ]
  },
  {
   "cell_type": "markdown",
   "metadata": {},
   "source": [
    "##### Exercise 1: Random Graph Model\n",
    "* Implement a *uniform random graph model* that consists of 10 graphs with 100 nodes. (You can choose the edge relation)\n",
    "* What is the expected *density* of your model?\n",
    "* What is the expected *entropy* of your model?\n",
    "* Implement a non-uniform version of your model. How did the expected *density* and *entropy* change?\n",
    "* how can you increase or decrease these values?"
   ]
  },
  {
   "cell_type": "markdown",
   "metadata": {},
   "source": [
    "##### Exercise 2: Random Graph model\n",
    "* Implement a function that computes a regular graph for a given the number of nodes $n$ and $r<n$.\n",
    "* Implement the edge rewire algorithm"
   ]
  },
  {
   "cell_type": "markdown",
   "metadata": {},
   "source": [
    "##### Exercise 3: Experimental study\n",
    "###### Entropy \n",
    "* Make 4 experiments with distinct parameters for $r<100$:\n",
    " - Compute the regular graph with $n=100$ and $r$: how the *entropy* changes depending on the number of rewired edges? (make a plot)\n",
    " \n",
    "###### ALCC ASP\n",
    "* Make 4 experiments with distinct parameters for $r<100$:\n",
    " - Compute the regular graph with $n=100$ and $r$: how the *ALCC* and *ASP* changes depending on the number of rewired edges? (make a plot)\n",
    "* Make 4 experiments with distinct parameters for 50, 100, 150 and 200 rewire steps:\n",
    " - Compute the regular graph with $n=100$ and $1<r<100$: how the *ALCC* and *ASP* change depending on $r$? (make a plot)\n",
    " \n",
    "###### Interpretation \n",
    "* Interpret your results"
   ]
  },
  {
   "cell_type": "markdown",
   "metadata": {},
   "source": [
    "##### Exercise 4: Test own hypothesis\n",
    "* Select a real world network\n",
    "* Formulate a hypothesis about how a property of your selected network is changes depending on the number of rewire steps of your rewire algorithm. (It is not important that your hypothesis turns out to be true)\n",
    "* Make an experiment to test you hypothesis. Did your experiment support your hypothesis? If not, why do you think it didn't?\n"
   ]
  }
 ],
 "metadata": {
  "kernelspec": {
   "display_name": "Python 3 (ipykernel)",
   "language": "python",
   "name": "python3"
  },
  "language_info": {
   "codemirror_mode": {
    "name": "ipython",
    "version": 3
   },
   "file_extension": ".py",
   "mimetype": "text/x-python",
   "name": "python",
   "nbconvert_exporter": "python",
   "pygments_lexer": "ipython3",
   "version": "3.11.2"
  },
  "vscode": {
   "interpreter": {
    "hash": "916dbcbb3f70747c44a77c7bcd40155683ae19c65e1c03b4aa3499c5328201f1"
   }
  }
 },
 "nbformat": 4,
 "nbformat_minor": 4
}
