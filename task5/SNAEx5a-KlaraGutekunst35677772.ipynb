{
 "cells": [
  {
   "attachments": {},
   "cell_type": "markdown",
   "metadata": {},
   "source": [
    "# Social Network Analysis - Exercise Sheet 5a)\n",
    "\n",
    "\n",
    "### Random Graph Models\n",
    "\n",
    "This exercise is dedicated towards random network models, their generation and properties.\n",
    "\n",
    "\n",
    "#### Guidelines\n",
    "* Submit your code zipped via [moodle](https://moodle.uni-kassel.de/course/view.php?id=11038) until 26.01.2023 23:55 MEZ\n",
    "* Use the [NetworkX](https://networkx.github.io/documentation/stable/) library for your graphs."
   ]
  },
  {
   "cell_type": "markdown",
   "metadata": {},
   "source": [
    "##### Exercise 1: Random Graph Model\n",
    "* Implement a *uniform random graph model* that consists of 10 graphs with 100 nodes. (You can choose the edge relation)\n",
    "* What is the expected *density* of your model?\n",
    "* What is the expected *entropy* of your model?\n",
    "* Implement a non-uniform version of your model. How did the expected *density* and *entropy* change?\n",
    "* how can you increase or decrease these values?"
   ]
  },
  {
   "cell_type": "code",
   "execution_count": 1,
   "metadata": {},
   "outputs": [],
   "source": [
    "import networkx as nx\n",
    "import numpy as np\n",
    "from cdlib import algorithms\n",
    "\n",
    "class Uniform_random_graph_model():\n",
    "    def __init__(self, n_graphs:int=10, n_nodes:int=100):\n",
    "        self.n_graphs = n_graphs\n",
    "        self.n_nodes = n_nodes\n",
    "\n",
    "        # generate graphs\n",
    "        n_edges = int(0.5 * self.n_nodes * (self.n_nodes - 1))   # expected debsity == 0.5\n",
    "        self.graphs = []\n",
    "        for graph in range(n_graphs):\n",
    "            G = nx.gnm_random_graph(n=n_nodes, m=n_edges)\n",
    "            self.graphs.append(G)\n",
    "\n",
    "    def get_expected_density(self):\n",
    "        return np.mean([nx.density(graph) for graph in self.graphs])  # should be 0.5\n",
    "\n",
    "    def get_expected_entropy(self):\n",
    "        return np.mean([algorithms.graph_entropy(graph) for graph in self.graphs])  # should be high\n",
    "\n",
    "\n",
    "class Non_uniform_random_graph_model(Uniform_random_graph_model):\n",
    "    def __init__(self, prob_distribution:list):\n",
    "        self.prob_distribution = prob_distribution\n",
    "\n",
    "    def get_expected_density(self):\n",
    "        return np.average([nx.density(graph) for graph in self.graphs], weights=self.prob_distribution)  # should be 0.5\n",
    "\n",
    "    def get_expected_entropy(self):\n",
    "        return np.average([algorithms.graph_entropy(graph) for graph in self.graphs], weights=self.prob_distribution)  # should be high\n"
   ]
  },
  {
   "cell_type": "code",
   "execution_count": null,
   "metadata": {},
   "outputs": [],
   "source": [
    "import random as rnd\n",
    "uni_rm = Uniform_random_graph_model()\n",
    "\n",
    "distr = [rnd.random() for i in range(10)]\n",
    "distr = [i/sum(distr) for i in distr]\n",
    "non_uni_rm = Non_uniform_random_graph_model(distr)"
   ]
  },
  {
   "cell_type": "code",
   "execution_count": null,
   "metadata": {},
   "outputs": [
    {
     "ename": "AttributeError",
     "evalue": "'Graph' object has no attribute 'density'",
     "output_type": "error",
     "traceback": [
      "\u001b[0;31m---------------------------------------------------------------------------\u001b[0m",
      "\u001b[0;31mAttributeError\u001b[0m                            Traceback (most recent call last)",
      "Cell \u001b[0;32mIn[7], line 1\u001b[0m\n\u001b[0;32m----> 1\u001b[0m \u001b[43muni_rm\u001b[49m\u001b[38;5;241;43m.\u001b[39;49m\u001b[43mget_expected_density\u001b[49m\u001b[43m(\u001b[49m\u001b[43m)\u001b[49m, non_uni_rm\u001b[38;5;241m.\u001b[39mget_expected_density(), uni_rm\u001b[38;5;241m.\u001b[39mget_expected_entropy(), non_uni_rm\u001b[38;5;241m.\u001b[39mget_expected_entropy()\n",
      "Cell \u001b[0;32mIn[3], line 17\u001b[0m, in \u001b[0;36mUniform_random_graph_model.get_expected_density\u001b[0;34m(self)\u001b[0m\n\u001b[1;32m     16\u001b[0m \u001b[38;5;28;01mdef\u001b[39;00m \u001b[38;5;21mget_expected_density\u001b[39m(\u001b[38;5;28mself\u001b[39m):\n\u001b[0;32m---> 17\u001b[0m     \u001b[38;5;28;01mreturn\u001b[39;00m np\u001b[38;5;241m.\u001b[39mmean(\u001b[43m[\u001b[49m\u001b[43mgraph\u001b[49m\u001b[38;5;241;43m.\u001b[39;49m\u001b[43mdensity\u001b[49m\u001b[43m(\u001b[49m\u001b[43m)\u001b[49m\u001b[43m \u001b[49m\u001b[38;5;28;43;01mfor\u001b[39;49;00m\u001b[43m \u001b[49m\u001b[43mgraph\u001b[49m\u001b[43m \u001b[49m\u001b[38;5;129;43;01min\u001b[39;49;00m\u001b[43m \u001b[49m\u001b[38;5;28;43mself\u001b[39;49m\u001b[38;5;241;43m.\u001b[39;49m\u001b[43mgraphs\u001b[49m\u001b[43m]\u001b[49m)\n",
      "Cell \u001b[0;32mIn[3], line 17\u001b[0m, in \u001b[0;36m<listcomp>\u001b[0;34m(.0)\u001b[0m\n\u001b[1;32m     16\u001b[0m \u001b[38;5;28;01mdef\u001b[39;00m \u001b[38;5;21mget_expected_density\u001b[39m(\u001b[38;5;28mself\u001b[39m):\n\u001b[0;32m---> 17\u001b[0m     \u001b[38;5;28;01mreturn\u001b[39;00m np\u001b[38;5;241m.\u001b[39mmean([\u001b[43mgraph\u001b[49m\u001b[38;5;241;43m.\u001b[39;49m\u001b[43mdensity\u001b[49m() \u001b[38;5;28;01mfor\u001b[39;00m graph \u001b[38;5;129;01min\u001b[39;00m \u001b[38;5;28mself\u001b[39m\u001b[38;5;241m.\u001b[39mgraphs])\n",
      "\u001b[0;31mAttributeError\u001b[0m: 'Graph' object has no attribute 'density'"
     ]
    }
   ],
   "source": [
    "uni_rm.get_expected_density(), non_uni_rm.get_expected_density(), uni_rm.get_expected_entropy(), non_uni_rm.get_expected_entropy()"
   ]
  },
  {
   "cell_type": "markdown",
   "metadata": {},
   "source": [
    "##### Exercise 2: Random Graph model\n",
    "* Implement a function that computes a regular graph for a given the number of nodes $n$ and $r<n$.\n",
    "* Implement the edge rewire algorithm"
   ]
  },
  {
   "cell_type": "markdown",
   "metadata": {},
   "source": [
    "##### Exercise 3: Experimental study\n",
    "###### Entropy \n",
    "* Make 4 experiments with distinct parameters for $r<100$:\n",
    " - Compute the regular graph with $n=100$ and $r$: how the *entropy* changes depending on the number of rewired edges? (make a plot)\n",
    " \n",
    "###### ALCC ASP\n",
    "* Make 4 experiments with distinct parameters for $r<100$:\n",
    " - Compute the regular graph with $n=100$ and $r$: how the *ALCC* and *ASP* changes depending on the number of rewired edges? (make a plot)\n",
    "* Make 4 experiments with distinct parameters for 50, 100, 150 and 200 rewire steps:\n",
    " - Compute the regular graph with $n=100$ and $1<r<100$: how the *ALCC* and *ASP* change depending on $r$? (make a plot)\n",
    " \n",
    "###### Interpretation \n",
    "* Interpret your results"
   ]
  },
  {
   "cell_type": "markdown",
   "metadata": {},
   "source": [
    "##### Exercise 4: Test own hypothesis\n",
    "* Select a real world network\n",
    "* Formulate a hypothesis about how a property of your selected network is changes depending on the number of rewire steps of your rewire algorithm. (It is not important that your hypothesis turns out to be true)\n",
    "* Make an experiment to test you hypothesis. Did your experiment support your hypothesis? If not, why do you think it didn't?\n"
   ]
  }
 ],
 "metadata": {
  "kernelspec": {
   "display_name": "Python 3 (ipykernel)",
   "language": "python",
   "name": "python3"
  },
  "language_info": {
   "codemirror_mode": {
    "name": "ipython",
    "version": 3
   },
   "file_extension": ".py",
   "mimetype": "text/x-python",
   "name": "python",
   "nbconvert_exporter": "python",
   "pygments_lexer": "ipython3",
   "version": "3.11.6"
  },
  "vscode": {
   "interpreter": {
    "hash": "916dbcbb3f70747c44a77c7bcd40155683ae19c65e1c03b4aa3499c5328201f1"
   }
  }
 },
 "nbformat": 4,
 "nbformat_minor": 4
}
